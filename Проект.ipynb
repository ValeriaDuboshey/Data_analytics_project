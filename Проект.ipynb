{
  "nbformat": 4,
  "nbformat_minor": 0,
  "metadata": {
    "colab": {
      "name": "64748e92-ab07-4228-8d8f-24863d019c8f.ipynb",
      "provenance": [],
      "collapsed_sections": [],
      "toc_visible": true
    },
    "kernelspec": {
      "display_name": "Python 3",
      "language": "python",
      "name": "python3"
    },
    "language_info": {
      "codemirror_mode": {
        "name": "ipython",
        "version": 3
      },
      "file_extension": ".py",
      "mimetype": "text/x-python",
      "name": "python",
      "nbconvert_exporter": "python",
      "pygments_lexer": "ipython3",
      "version": "3.7.8"
    },
    "toc": {
      "base_numbering": 1,
      "nav_menu": {},
      "number_sections": true,
      "sideBar": true,
      "skip_h1_title": true,
      "title_cell": "Содержание",
      "title_sidebar": "Contents",
      "toc_cell": true,
      "toc_position": {},
      "toc_section_display": true,
      "toc_window_display": false
    }
  },
  "cells": [
    {
      "cell_type": "markdown",
      "metadata": {
        "id": "pWM5XvmuZP1X",
        "toc": true
      },
      "source": [
        "<h1>Содержание<span class=\"tocSkip\"></span></h1>\n",
        "<div class=\"toc\"><ul class=\"toc-item\"><li><span><a href=\"#Изучение-и-обработка-данных\" data-toc-modified-id=\"Изучение-и-обработка-данных-1\"><span class=\"toc-item-num\">1&nbsp;&nbsp;</span>Изучение и обработка данных</a></span></li><li><span><a href=\"#Расчёты-и-добавление-результатов-в-таблицу\" data-toc-modified-id=\"Расчёты-и-добавление-результатов-в-таблицу-2\"><span class=\"toc-item-num\">2&nbsp;&nbsp;</span>Расчёты и добавление результатов в таблицу</a></span></li><li><span><a href=\"#Исследовательский-анализ-данных\" data-toc-modified-id=\"Исследовательский-анализ-данных-3\"><span class=\"toc-item-num\">3&nbsp;&nbsp;</span>Исследовательский анализ данных</a></span><ul class=\"toc-item\"><li><span><a href=\"#Количество-выпускавшихся-игр-в-год\" data-toc-modified-id=\"Количество-выпускавшихся-игр-в-год-3.1\"><span class=\"toc-item-num\">3.1&nbsp;&nbsp;</span>Количество выпускавшихся игр в год</a></span></li></ul></li><li><span><a href=\"#Предпочтения-пользователей-по-регионам\" data-toc-modified-id=\"Предпочтения-пользователей-по-регионам-4\"><span class=\"toc-item-num\">4&nbsp;&nbsp;</span>Предпочтения пользователей по регионам</a></span></li><li><span><a href=\"#Проверка-гипотез\" data-toc-modified-id=\"Проверка-гипотез-5\"><span class=\"toc-item-num\">5&nbsp;&nbsp;</span>Проверка гипотез</a></span><ul class=\"toc-item\"><li><span><a href=\"#Средние-пользовательские-рейтинги-платформ-Xbox-One-и-PC-одинаковые.\" data-toc-modified-id=\"Средние-пользовательские-рейтинги-платформ-Xbox-One-и-PC-одинаковые.-5.1\"><span class=\"toc-item-num\">5.1&nbsp;&nbsp;</span>Средние пользовательские рейтинги платформ Xbox One и PC одинаковые.</a></span></li><li><span><a href=\"#Средние-пользовательские-рейтинги-жанров-Action-(англ.-«действие»,-экшен-игры)-и-Sports-(англ.-«спортивные-соревнования»)-разные.\" data-toc-modified-id=\"Средние-пользовательские-рейтинги-жанров-Action-(англ.-«действие»,-экшен-игры)-и-Sports-(англ.-«спортивные-соревнования»)-разные.-5.2\"><span class=\"toc-item-num\">5.2&nbsp;&nbsp;</span>Средние пользовательские рейтинги жанров Action (англ. «действие», экшен-игры) и Sports (англ. «спортивные соревнования») разные.</a></span></li></ul></li></ul></div>"
      ]
    },
    {
      "cell_type": "markdown",
      "metadata": {
        "id": "MrEs4LxNZP1h"
      },
      "source": [
        "# Закономерности, определяющие успешность игры "
      ]
    },
    {
      "cell_type": "markdown",
      "metadata": {
        "id": "1HUqGW1lZP1i"
      },
      "source": [
        "Из открытых источников нам доступны исторические данные о продажах игр, оценки пользователей и экспертов, жанры и платформы.  \n",
        "На основе этой информации нам нужно выявить определяющие успешность игры закономерности.   \n",
        "Указанная информация позволит сделать ставку на потенциально популярный продукт и спланировать рекламные кампании.  \n",
        "\n",
        "NA_sales — продажи в Северной Америке (миллионы проданных копий)  \n",
        "EU_sales — продажи в Европе (миллионы проданных копий)  \n",
        "JP_sales — продажи в Японии (миллионы проданных копий)  \n",
        "Other_sales — продажи в других странах (миллионы проданных копий)  \n",
        "Critic_Score — оценка критиков (максимум 100)  \n",
        "User_Score — оценка пользователей (максимум 10)  \n",
        "Rating — рейтинг от организации ESRB (англ. Entertainment Software Rating Board). Эта ассоциация определяет рейтинг компьютерных игр и присваивает им подходящую возрастную категорию."
      ]
    },
    {
      "cell_type": "markdown",
      "metadata": {
        "id": "NRC5SyKwZP1j"
      },
      "source": [
        "## Изучение и обработка данных"
      ]
    },
    {
      "cell_type": "code",
      "metadata": {
        "id": "XnFNuEXwZP1k"
      },
      "source": [
        "# Импортируем все библиотеки, которые могут нам понадобиться в работе\n",
        "import pandas as pd\n",
        "import matplotlib.pyplot as plt\n",
        "import numpy as np\n",
        "import seaborn as sn\n",
        "from scipy import stats as st\n",
        "import math\n",
        "import warnings\n",
        "warnings.filterwarnings('ignore')\n",
        "pd.options.display.max_columns=35"
      ],
      "execution_count": null,
      "outputs": []
    },
    {
      "cell_type": "code",
      "metadata": {
        "id": "5jFe_VdgaHO_"
      },
      "source": [
        "#from google.colab import files\n",
        "#uploaded = files.upload()"
      ],
      "execution_count": null,
      "outputs": []
    },
    {
      "cell_type": "code",
      "metadata": {
        "colab": {
          "base_uri": "https://localhost:8080/",
          "height": 549
        },
        "id": "HouozWRtZP1l",
        "scrolled": false,
        "outputId": "ea675604-cf34-40ee-a746-521e36a5fe2a"
      },
      "source": [
        "try:\n",
        "    data=pd.read_csv('/datasets/games.csv')\n",
        "except:\n",
        "    data=pd.read_csv('games.csv')\n",
        "display(data.head())\n",
        "data.info()\n",
        "print()\n",
        "print('Количество повторяющихся строк:', data.duplicated().sum())"
      ],
      "execution_count": null,
      "outputs": [
        {
          "output_type": "display_data",
          "data": {
            "text/html": [
              "<div>\n",
              "<style scoped>\n",
              "    .dataframe tbody tr th:only-of-type {\n",
              "        vertical-align: middle;\n",
              "    }\n",
              "\n",
              "    .dataframe tbody tr th {\n",
              "        vertical-align: top;\n",
              "    }\n",
              "\n",
              "    .dataframe thead th {\n",
              "        text-align: right;\n",
              "    }\n",
              "</style>\n",
              "<table border=\"1\" class=\"dataframe\">\n",
              "  <thead>\n",
              "    <tr style=\"text-align: right;\">\n",
              "      <th></th>\n",
              "      <th>Name</th>\n",
              "      <th>Platform</th>\n",
              "      <th>Year_of_Release</th>\n",
              "      <th>Genre</th>\n",
              "      <th>NA_sales</th>\n",
              "      <th>EU_sales</th>\n",
              "      <th>JP_sales</th>\n",
              "      <th>Other_sales</th>\n",
              "      <th>Critic_Score</th>\n",
              "      <th>User_Score</th>\n",
              "      <th>Rating</th>\n",
              "    </tr>\n",
              "  </thead>\n",
              "  <tbody>\n",
              "    <tr>\n",
              "      <td>0</td>\n",
              "      <td>Wii Sports</td>\n",
              "      <td>Wii</td>\n",
              "      <td>2006.0</td>\n",
              "      <td>Sports</td>\n",
              "      <td>41.36</td>\n",
              "      <td>28.96</td>\n",
              "      <td>3.77</td>\n",
              "      <td>8.45</td>\n",
              "      <td>76.0</td>\n",
              "      <td>8</td>\n",
              "      <td>E</td>\n",
              "    </tr>\n",
              "    <tr>\n",
              "      <td>1</td>\n",
              "      <td>Super Mario Bros.</td>\n",
              "      <td>NES</td>\n",
              "      <td>1985.0</td>\n",
              "      <td>Platform</td>\n",
              "      <td>29.08</td>\n",
              "      <td>3.58</td>\n",
              "      <td>6.81</td>\n",
              "      <td>0.77</td>\n",
              "      <td>NaN</td>\n",
              "      <td>NaN</td>\n",
              "      <td>NaN</td>\n",
              "    </tr>\n",
              "    <tr>\n",
              "      <td>2</td>\n",
              "      <td>Mario Kart Wii</td>\n",
              "      <td>Wii</td>\n",
              "      <td>2008.0</td>\n",
              "      <td>Racing</td>\n",
              "      <td>15.68</td>\n",
              "      <td>12.76</td>\n",
              "      <td>3.79</td>\n",
              "      <td>3.29</td>\n",
              "      <td>82.0</td>\n",
              "      <td>8.3</td>\n",
              "      <td>E</td>\n",
              "    </tr>\n",
              "    <tr>\n",
              "      <td>3</td>\n",
              "      <td>Wii Sports Resort</td>\n",
              "      <td>Wii</td>\n",
              "      <td>2009.0</td>\n",
              "      <td>Sports</td>\n",
              "      <td>15.61</td>\n",
              "      <td>10.93</td>\n",
              "      <td>3.28</td>\n",
              "      <td>2.95</td>\n",
              "      <td>80.0</td>\n",
              "      <td>8</td>\n",
              "      <td>E</td>\n",
              "    </tr>\n",
              "    <tr>\n",
              "      <td>4</td>\n",
              "      <td>Pokemon Red/Pokemon Blue</td>\n",
              "      <td>GB</td>\n",
              "      <td>1996.0</td>\n",
              "      <td>Role-Playing</td>\n",
              "      <td>11.27</td>\n",
              "      <td>8.89</td>\n",
              "      <td>10.22</td>\n",
              "      <td>1.00</td>\n",
              "      <td>NaN</td>\n",
              "      <td>NaN</td>\n",
              "      <td>NaN</td>\n",
              "    </tr>\n",
              "  </tbody>\n",
              "</table>\n",
              "</div>"
            ],
            "text/plain": [
              "                       Name Platform  Year_of_Release         Genre  NA_sales  \\\n",
              "0                Wii Sports      Wii           2006.0        Sports     41.36   \n",
              "1         Super Mario Bros.      NES           1985.0      Platform     29.08   \n",
              "2            Mario Kart Wii      Wii           2008.0        Racing     15.68   \n",
              "3         Wii Sports Resort      Wii           2009.0        Sports     15.61   \n",
              "4  Pokemon Red/Pokemon Blue       GB           1996.0  Role-Playing     11.27   \n",
              "\n",
              "   EU_sales  JP_sales  Other_sales  Critic_Score User_Score Rating  \n",
              "0     28.96      3.77         8.45          76.0          8      E  \n",
              "1      3.58      6.81         0.77           NaN        NaN    NaN  \n",
              "2     12.76      3.79         3.29          82.0        8.3      E  \n",
              "3     10.93      3.28         2.95          80.0          8      E  \n",
              "4      8.89     10.22         1.00           NaN        NaN    NaN  "
            ]
          },
          "metadata": {
            "tags": []
          }
        },
        {
          "output_type": "stream",
          "text": [
            "<class 'pandas.core.frame.DataFrame'>\n",
            "RangeIndex: 16715 entries, 0 to 16714\n",
            "Data columns (total 11 columns):\n",
            "Name               16713 non-null object\n",
            "Platform           16715 non-null object\n",
            "Year_of_Release    16446 non-null float64\n",
            "Genre              16713 non-null object\n",
            "NA_sales           16715 non-null float64\n",
            "EU_sales           16715 non-null float64\n",
            "JP_sales           16715 non-null float64\n",
            "Other_sales        16715 non-null float64\n",
            "Critic_Score       8137 non-null float64\n",
            "User_Score         10014 non-null object\n",
            "Rating             9949 non-null object\n",
            "dtypes: float64(6), object(5)\n",
            "memory usage: 1.4+ MB\n",
            "\n",
            "Количество повторяющихся строк: 0\n"
          ],
          "name": "stdout"
        }
      ]
    },
    {
      "cell_type": "markdown",
      "metadata": {
        "id": "rZZHqiCIZP1m"
      },
      "source": [
        "В представленной таблице всего 11 колонок и 16 715 строк. Числовые данные содержатся в 6 колонках, 5 колонок имеют тип данных - object.  \n",
        "Каждая строка содержит информацию об 1 выпущенной игре (имя, платформа, год выпуска, жанр, продажи по регионам, рейтинг).  "
      ]
    },
    {
      "cell_type": "markdown",
      "metadata": {
        "id": "1YDQnrQvZP1n"
      },
      "source": [
        "Для начала приведем наименования столбцов к общепринятому виду:"
      ]
    },
    {
      "cell_type": "code",
      "metadata": {
        "colab": {
          "base_uri": "https://localhost:8080/",
          "height": 416
        },
        "id": "5FYKQTvkZP1n",
        "scrolled": true,
        "outputId": "09616c3e-e2ac-42bd-fa5a-269ef924de2b"
      },
      "source": [
        "data.columns = data.columns.str.lower()\n",
        "data"
      ],
      "execution_count": null,
      "outputs": [
        {
          "output_type": "execute_result",
          "data": {
            "text/html": [
              "<div>\n",
              "<style scoped>\n",
              "    .dataframe tbody tr th:only-of-type {\n",
              "        vertical-align: middle;\n",
              "    }\n",
              "\n",
              "    .dataframe tbody tr th {\n",
              "        vertical-align: top;\n",
              "    }\n",
              "\n",
              "    .dataframe thead th {\n",
              "        text-align: right;\n",
              "    }\n",
              "</style>\n",
              "<table border=\"1\" class=\"dataframe\">\n",
              "  <thead>\n",
              "    <tr style=\"text-align: right;\">\n",
              "      <th></th>\n",
              "      <th>name</th>\n",
              "      <th>platform</th>\n",
              "      <th>year_of_release</th>\n",
              "      <th>genre</th>\n",
              "      <th>na_sales</th>\n",
              "      <th>eu_sales</th>\n",
              "      <th>jp_sales</th>\n",
              "      <th>other_sales</th>\n",
              "      <th>critic_score</th>\n",
              "      <th>user_score</th>\n",
              "      <th>rating</th>\n",
              "    </tr>\n",
              "  </thead>\n",
              "  <tbody>\n",
              "    <tr>\n",
              "      <td>0</td>\n",
              "      <td>Wii Sports</td>\n",
              "      <td>Wii</td>\n",
              "      <td>2006.0</td>\n",
              "      <td>Sports</td>\n",
              "      <td>41.36</td>\n",
              "      <td>28.96</td>\n",
              "      <td>3.77</td>\n",
              "      <td>8.45</td>\n",
              "      <td>76.0</td>\n",
              "      <td>8</td>\n",
              "      <td>E</td>\n",
              "    </tr>\n",
              "    <tr>\n",
              "      <td>1</td>\n",
              "      <td>Super Mario Bros.</td>\n",
              "      <td>NES</td>\n",
              "      <td>1985.0</td>\n",
              "      <td>Platform</td>\n",
              "      <td>29.08</td>\n",
              "      <td>3.58</td>\n",
              "      <td>6.81</td>\n",
              "      <td>0.77</td>\n",
              "      <td>NaN</td>\n",
              "      <td>NaN</td>\n",
              "      <td>NaN</td>\n",
              "    </tr>\n",
              "    <tr>\n",
              "      <td>2</td>\n",
              "      <td>Mario Kart Wii</td>\n",
              "      <td>Wii</td>\n",
              "      <td>2008.0</td>\n",
              "      <td>Racing</td>\n",
              "      <td>15.68</td>\n",
              "      <td>12.76</td>\n",
              "      <td>3.79</td>\n",
              "      <td>3.29</td>\n",
              "      <td>82.0</td>\n",
              "      <td>8.3</td>\n",
              "      <td>E</td>\n",
              "    </tr>\n",
              "    <tr>\n",
              "      <td>3</td>\n",
              "      <td>Wii Sports Resort</td>\n",
              "      <td>Wii</td>\n",
              "      <td>2009.0</td>\n",
              "      <td>Sports</td>\n",
              "      <td>15.61</td>\n",
              "      <td>10.93</td>\n",
              "      <td>3.28</td>\n",
              "      <td>2.95</td>\n",
              "      <td>80.0</td>\n",
              "      <td>8</td>\n",
              "      <td>E</td>\n",
              "    </tr>\n",
              "    <tr>\n",
              "      <td>4</td>\n",
              "      <td>Pokemon Red/Pokemon Blue</td>\n",
              "      <td>GB</td>\n",
              "      <td>1996.0</td>\n",
              "      <td>Role-Playing</td>\n",
              "      <td>11.27</td>\n",
              "      <td>8.89</td>\n",
              "      <td>10.22</td>\n",
              "      <td>1.00</td>\n",
              "      <td>NaN</td>\n",
              "      <td>NaN</td>\n",
              "      <td>NaN</td>\n",
              "    </tr>\n",
              "    <tr>\n",
              "      <td>...</td>\n",
              "      <td>...</td>\n",
              "      <td>...</td>\n",
              "      <td>...</td>\n",
              "      <td>...</td>\n",
              "      <td>...</td>\n",
              "      <td>...</td>\n",
              "      <td>...</td>\n",
              "      <td>...</td>\n",
              "      <td>...</td>\n",
              "      <td>...</td>\n",
              "      <td>...</td>\n",
              "    </tr>\n",
              "    <tr>\n",
              "      <td>16710</td>\n",
              "      <td>Samurai Warriors: Sanada Maru</td>\n",
              "      <td>PS3</td>\n",
              "      <td>2016.0</td>\n",
              "      <td>Action</td>\n",
              "      <td>0.00</td>\n",
              "      <td>0.00</td>\n",
              "      <td>0.01</td>\n",
              "      <td>0.00</td>\n",
              "      <td>NaN</td>\n",
              "      <td>NaN</td>\n",
              "      <td>NaN</td>\n",
              "    </tr>\n",
              "    <tr>\n",
              "      <td>16711</td>\n",
              "      <td>LMA Manager 2007</td>\n",
              "      <td>X360</td>\n",
              "      <td>2006.0</td>\n",
              "      <td>Sports</td>\n",
              "      <td>0.00</td>\n",
              "      <td>0.01</td>\n",
              "      <td>0.00</td>\n",
              "      <td>0.00</td>\n",
              "      <td>NaN</td>\n",
              "      <td>NaN</td>\n",
              "      <td>NaN</td>\n",
              "    </tr>\n",
              "    <tr>\n",
              "      <td>16712</td>\n",
              "      <td>Haitaka no Psychedelica</td>\n",
              "      <td>PSV</td>\n",
              "      <td>2016.0</td>\n",
              "      <td>Adventure</td>\n",
              "      <td>0.00</td>\n",
              "      <td>0.00</td>\n",
              "      <td>0.01</td>\n",
              "      <td>0.00</td>\n",
              "      <td>NaN</td>\n",
              "      <td>NaN</td>\n",
              "      <td>NaN</td>\n",
              "    </tr>\n",
              "    <tr>\n",
              "      <td>16713</td>\n",
              "      <td>Spirits &amp; Spells</td>\n",
              "      <td>GBA</td>\n",
              "      <td>2003.0</td>\n",
              "      <td>Platform</td>\n",
              "      <td>0.01</td>\n",
              "      <td>0.00</td>\n",
              "      <td>0.00</td>\n",
              "      <td>0.00</td>\n",
              "      <td>NaN</td>\n",
              "      <td>NaN</td>\n",
              "      <td>NaN</td>\n",
              "    </tr>\n",
              "    <tr>\n",
              "      <td>16714</td>\n",
              "      <td>Winning Post 8 2016</td>\n",
              "      <td>PSV</td>\n",
              "      <td>2016.0</td>\n",
              "      <td>Simulation</td>\n",
              "      <td>0.00</td>\n",
              "      <td>0.00</td>\n",
              "      <td>0.01</td>\n",
              "      <td>0.00</td>\n",
              "      <td>NaN</td>\n",
              "      <td>NaN</td>\n",
              "      <td>NaN</td>\n",
              "    </tr>\n",
              "  </tbody>\n",
              "</table>\n",
              "<p>16715 rows × 11 columns</p>\n",
              "</div>"
            ],
            "text/plain": [
              "                                name platform  year_of_release         genre  \\\n",
              "0                         Wii Sports      Wii           2006.0        Sports   \n",
              "1                  Super Mario Bros.      NES           1985.0      Platform   \n",
              "2                     Mario Kart Wii      Wii           2008.0        Racing   \n",
              "3                  Wii Sports Resort      Wii           2009.0        Sports   \n",
              "4           Pokemon Red/Pokemon Blue       GB           1996.0  Role-Playing   \n",
              "...                              ...      ...              ...           ...   \n",
              "16710  Samurai Warriors: Sanada Maru      PS3           2016.0        Action   \n",
              "16711               LMA Manager 2007     X360           2006.0        Sports   \n",
              "16712        Haitaka no Psychedelica      PSV           2016.0     Adventure   \n",
              "16713               Spirits & Spells      GBA           2003.0      Platform   \n",
              "16714            Winning Post 8 2016      PSV           2016.0    Simulation   \n",
              "\n",
              "       na_sales  eu_sales  jp_sales  other_sales  critic_score user_score  \\\n",
              "0         41.36     28.96      3.77         8.45          76.0          8   \n",
              "1         29.08      3.58      6.81         0.77           NaN        NaN   \n",
              "2         15.68     12.76      3.79         3.29          82.0        8.3   \n",
              "3         15.61     10.93      3.28         2.95          80.0          8   \n",
              "4         11.27      8.89     10.22         1.00           NaN        NaN   \n",
              "...         ...       ...       ...          ...           ...        ...   \n",
              "16710      0.00      0.00      0.01         0.00           NaN        NaN   \n",
              "16711      0.00      0.01      0.00         0.00           NaN        NaN   \n",
              "16712      0.00      0.00      0.01         0.00           NaN        NaN   \n",
              "16713      0.01      0.00      0.00         0.00           NaN        NaN   \n",
              "16714      0.00      0.00      0.01         0.00           NaN        NaN   \n",
              "\n",
              "      rating  \n",
              "0          E  \n",
              "1        NaN  \n",
              "2          E  \n",
              "3          E  \n",
              "4        NaN  \n",
              "...      ...  \n",
              "16710    NaN  \n",
              "16711    NaN  \n",
              "16712    NaN  \n",
              "16713    NaN  \n",
              "16714    NaN  \n",
              "\n",
              "[16715 rows x 11 columns]"
            ]
          },
          "metadata": {
            "tags": []
          },
          "execution_count": 4
        }
      ]
    },
    {
      "cell_type": "markdown",
      "metadata": {
        "id": "whrb9DnUDMv3"
      },
      "source": [
        "И приведем все значения в колонке \"platform\", \"name\" и \"genre\" к нижнему регистру."
      ]
    },
    {
      "cell_type": "code",
      "metadata": {
        "id": "AG7dTbKaDfnT"
      },
      "source": [
        "data['name'] = data['name'].str.lower()\n",
        "data['platform'] = data['platform'].str.lower()\n",
        "data['genre'] = data['genre'].str.lower()"
      ],
      "execution_count": null,
      "outputs": []
    },
    {
      "cell_type": "markdown",
      "metadata": {
        "id": "G8Me7MvwZP1o"
      },
      "source": [
        "Проверим количество пропусков:"
      ]
    },
    {
      "cell_type": "code",
      "metadata": {
        "colab": {
          "base_uri": "https://localhost:8080/",
          "height": 242
        },
        "id": "YWhJ22rJZP1o",
        "outputId": "0961c811-c3c2-4491-f898-5fe5a0ba4b6b"
      },
      "source": [
        "pd.DataFrame(round((data.isna().mean()*100),2)).style.background_gradient('coolwarm')"
      ],
      "execution_count": null,
      "outputs": [
        {
          "output_type": "execute_result",
          "data": {
            "text/html": [
              "<style  type=\"text/css\" >\n",
              "    #T_e4a6d06e_b99d_11eb_87f0_02420a39065arow0_col0 {\n",
              "            background-color:  #3b4cc0;\n",
              "            color:  #f1f1f1;\n",
              "        }    #T_e4a6d06e_b99d_11eb_87f0_02420a39065arow1_col0 {\n",
              "            background-color:  #3b4cc0;\n",
              "            color:  #f1f1f1;\n",
              "        }    #T_e4a6d06e_b99d_11eb_87f0_02420a39065arow2_col0 {\n",
              "            background-color:  #445acc;\n",
              "            color:  #f1f1f1;\n",
              "        }    #T_e4a6d06e_b99d_11eb_87f0_02420a39065arow3_col0 {\n",
              "            background-color:  #3b4cc0;\n",
              "            color:  #f1f1f1;\n",
              "        }    #T_e4a6d06e_b99d_11eb_87f0_02420a39065arow4_col0 {\n",
              "            background-color:  #3b4cc0;\n",
              "            color:  #f1f1f1;\n",
              "        }    #T_e4a6d06e_b99d_11eb_87f0_02420a39065arow5_col0 {\n",
              "            background-color:  #3b4cc0;\n",
              "            color:  #f1f1f1;\n",
              "        }    #T_e4a6d06e_b99d_11eb_87f0_02420a39065arow6_col0 {\n",
              "            background-color:  #3b4cc0;\n",
              "            color:  #f1f1f1;\n",
              "        }    #T_e4a6d06e_b99d_11eb_87f0_02420a39065arow7_col0 {\n",
              "            background-color:  #3b4cc0;\n",
              "            color:  #f1f1f1;\n",
              "        }    #T_e4a6d06e_b99d_11eb_87f0_02420a39065arow8_col0 {\n",
              "            background-color:  #b40426;\n",
              "            color:  #f1f1f1;\n",
              "        }    #T_e4a6d06e_b99d_11eb_87f0_02420a39065arow9_col0 {\n",
              "            background-color:  #f18d6f;\n",
              "            color:  #000000;\n",
              "        }    #T_e4a6d06e_b99d_11eb_87f0_02420a39065arow10_col0 {\n",
              "            background-color:  #f08a6c;\n",
              "            color:  #000000;\n",
              "        }</style><table id=\"T_e4a6d06e_b99d_11eb_87f0_02420a39065a\" ><thead>    <tr>        <th class=\"blank level0\" ></th>        <th class=\"col_heading level0 col0\" >0</th>    </tr></thead><tbody>\n",
              "                <tr>\n",
              "                        <th id=\"T_e4a6d06e_b99d_11eb_87f0_02420a39065alevel0_row0\" class=\"row_heading level0 row0\" >name</th>\n",
              "                        <td id=\"T_e4a6d06e_b99d_11eb_87f0_02420a39065arow0_col0\" class=\"data row0 col0\" >0.01</td>\n",
              "            </tr>\n",
              "            <tr>\n",
              "                        <th id=\"T_e4a6d06e_b99d_11eb_87f0_02420a39065alevel0_row1\" class=\"row_heading level0 row1\" >platform</th>\n",
              "                        <td id=\"T_e4a6d06e_b99d_11eb_87f0_02420a39065arow1_col0\" class=\"data row1 col0\" >0</td>\n",
              "            </tr>\n",
              "            <tr>\n",
              "                        <th id=\"T_e4a6d06e_b99d_11eb_87f0_02420a39065alevel0_row2\" class=\"row_heading level0 row2\" >year_of_release</th>\n",
              "                        <td id=\"T_e4a6d06e_b99d_11eb_87f0_02420a39065arow2_col0\" class=\"data row2 col0\" >1.61</td>\n",
              "            </tr>\n",
              "            <tr>\n",
              "                        <th id=\"T_e4a6d06e_b99d_11eb_87f0_02420a39065alevel0_row3\" class=\"row_heading level0 row3\" >genre</th>\n",
              "                        <td id=\"T_e4a6d06e_b99d_11eb_87f0_02420a39065arow3_col0\" class=\"data row3 col0\" >0.01</td>\n",
              "            </tr>\n",
              "            <tr>\n",
              "                        <th id=\"T_e4a6d06e_b99d_11eb_87f0_02420a39065alevel0_row4\" class=\"row_heading level0 row4\" >na_sales</th>\n",
              "                        <td id=\"T_e4a6d06e_b99d_11eb_87f0_02420a39065arow4_col0\" class=\"data row4 col0\" >0</td>\n",
              "            </tr>\n",
              "            <tr>\n",
              "                        <th id=\"T_e4a6d06e_b99d_11eb_87f0_02420a39065alevel0_row5\" class=\"row_heading level0 row5\" >eu_sales</th>\n",
              "                        <td id=\"T_e4a6d06e_b99d_11eb_87f0_02420a39065arow5_col0\" class=\"data row5 col0\" >0</td>\n",
              "            </tr>\n",
              "            <tr>\n",
              "                        <th id=\"T_e4a6d06e_b99d_11eb_87f0_02420a39065alevel0_row6\" class=\"row_heading level0 row6\" >jp_sales</th>\n",
              "                        <td id=\"T_e4a6d06e_b99d_11eb_87f0_02420a39065arow6_col0\" class=\"data row6 col0\" >0</td>\n",
              "            </tr>\n",
              "            <tr>\n",
              "                        <th id=\"T_e4a6d06e_b99d_11eb_87f0_02420a39065alevel0_row7\" class=\"row_heading level0 row7\" >other_sales</th>\n",
              "                        <td id=\"T_e4a6d06e_b99d_11eb_87f0_02420a39065arow7_col0\" class=\"data row7 col0\" >0</td>\n",
              "            </tr>\n",
              "            <tr>\n",
              "                        <th id=\"T_e4a6d06e_b99d_11eb_87f0_02420a39065alevel0_row8\" class=\"row_heading level0 row8\" >critic_score</th>\n",
              "                        <td id=\"T_e4a6d06e_b99d_11eb_87f0_02420a39065arow8_col0\" class=\"data row8 col0\" >51.32</td>\n",
              "            </tr>\n",
              "            <tr>\n",
              "                        <th id=\"T_e4a6d06e_b99d_11eb_87f0_02420a39065alevel0_row9\" class=\"row_heading level0 row9\" >user_score</th>\n",
              "                        <td id=\"T_e4a6d06e_b99d_11eb_87f0_02420a39065arow9_col0\" class=\"data row9 col0\" >40.09</td>\n",
              "            </tr>\n",
              "            <tr>\n",
              "                        <th id=\"T_e4a6d06e_b99d_11eb_87f0_02420a39065alevel0_row10\" class=\"row_heading level0 row10\" >rating</th>\n",
              "                        <td id=\"T_e4a6d06e_b99d_11eb_87f0_02420a39065arow10_col0\" class=\"data row10 col0\" >40.48</td>\n",
              "            </tr>\n",
              "    </tbody></table>"
            ],
            "text/plain": [
              "<pandas.io.formats.style.Styler at 0x7f302657e090>"
            ]
          },
          "metadata": {
            "tags": []
          },
          "execution_count": 6
        }
      ]
    },
    {
      "cell_type": "markdown",
      "metadata": {
        "id": "Q6n5To9eZP1p"
      },
      "source": [
        "Как мы видим, в колонках 'name', 'year_of_release' и 'genre' пропущены совсем маленькие доли даных. можем вырезать указанные строки, они не повлияют на итоговый результат исследования.  \n"
      ]
    },
    {
      "cell_type": "code",
      "metadata": {
        "id": "q8QMeMizZP1p"
      },
      "source": [
        "data.dropna(subset=['name', 'year_of_release', 'genre'], inplace=True)"
      ],
      "execution_count": null,
      "outputs": []
    },
    {
      "cell_type": "markdown",
      "metadata": {
        "id": "8QJJ8RAacsvW"
      },
      "source": [
        "В колонках с рейтингом пропущено существенное количество срок (от 40 до 51%)."
      ]
    },
    {
      "cell_type": "code",
      "metadata": {
        "colab": {
          "base_uri": "https://localhost:8080/",
          "height": 1000
        },
        "id": "Um_VwSXyfqD0",
        "outputId": "3c781b0a-5bd8-4d99-e6ec-9abff7fd8f9e"
      },
      "source": [
        "missed_critic_score = data.query('critic_score == \"NaN\"').pivot_table(index=['year_of_release'], values=['na_sales', 'eu_sales', 'jp_sales', 'other_sales'], aggfunc=['sum'])\n",
        "sales_by_years = data.pivot_table(index='year_of_release',values=['na_sales', 'eu_sales', 'jp_sales', 'other_sales'], aggfunc=['sum'])\n",
        "missed_critic_score_1 = missed_critic_score / sales_by_years\n",
        "missed_critic_score_1"
      ],
      "execution_count": null,
      "outputs": [
        {
          "output_type": "execute_result",
          "data": {
            "text/html": [
              "<div>\n",
              "<style scoped>\n",
              "    .dataframe tbody tr th:only-of-type {\n",
              "        vertical-align: middle;\n",
              "    }\n",
              "\n",
              "    .dataframe tbody tr th {\n",
              "        vertical-align: top;\n",
              "    }\n",
              "\n",
              "    .dataframe thead tr th {\n",
              "        text-align: left;\n",
              "    }\n",
              "\n",
              "    .dataframe thead tr:last-of-type th {\n",
              "        text-align: right;\n",
              "    }\n",
              "</style>\n",
              "<table border=\"1\" class=\"dataframe\">\n",
              "  <thead>\n",
              "    <tr>\n",
              "      <th></th>\n",
              "      <th colspan=\"4\" halign=\"left\">sum</th>\n",
              "    </tr>\n",
              "    <tr>\n",
              "      <th></th>\n",
              "      <th>eu_sales</th>\n",
              "      <th>jp_sales</th>\n",
              "      <th>na_sales</th>\n",
              "      <th>other_sales</th>\n",
              "    </tr>\n",
              "    <tr>\n",
              "      <th>year_of_release</th>\n",
              "      <th></th>\n",
              "      <th></th>\n",
              "      <th></th>\n",
              "      <th></th>\n",
              "    </tr>\n",
              "  </thead>\n",
              "  <tbody>\n",
              "    <tr>\n",
              "      <td>1980.0</td>\n",
              "      <td>1.000000</td>\n",
              "      <td>NaN</td>\n",
              "      <td>1.000000</td>\n",
              "      <td>1.000000</td>\n",
              "    </tr>\n",
              "    <tr>\n",
              "      <td>1981.0</td>\n",
              "      <td>1.000000</td>\n",
              "      <td>NaN</td>\n",
              "      <td>1.000000</td>\n",
              "      <td>1.000000</td>\n",
              "    </tr>\n",
              "    <tr>\n",
              "      <td>1982.0</td>\n",
              "      <td>1.000000</td>\n",
              "      <td>NaN</td>\n",
              "      <td>1.000000</td>\n",
              "      <td>1.000000</td>\n",
              "    </tr>\n",
              "    <tr>\n",
              "      <td>1983.0</td>\n",
              "      <td>1.000000</td>\n",
              "      <td>1.000000</td>\n",
              "      <td>1.000000</td>\n",
              "      <td>1.000000</td>\n",
              "    </tr>\n",
              "    <tr>\n",
              "      <td>1984.0</td>\n",
              "      <td>1.000000</td>\n",
              "      <td>1.000000</td>\n",
              "      <td>1.000000</td>\n",
              "      <td>1.000000</td>\n",
              "    </tr>\n",
              "    <tr>\n",
              "      <td>1985.0</td>\n",
              "      <td>0.993671</td>\n",
              "      <td>1.000000</td>\n",
              "      <td>1.000000</td>\n",
              "      <td>0.989130</td>\n",
              "    </tr>\n",
              "    <tr>\n",
              "      <td>1986.0</td>\n",
              "      <td>1.000000</td>\n",
              "      <td>1.000000</td>\n",
              "      <td>1.000000</td>\n",
              "      <td>1.000000</td>\n",
              "    </tr>\n",
              "    <tr>\n",
              "      <td>1987.0</td>\n",
              "      <td>1.000000</td>\n",
              "      <td>1.000000</td>\n",
              "      <td>1.000000</td>\n",
              "      <td>1.000000</td>\n",
              "    </tr>\n",
              "    <tr>\n",
              "      <td>1988.0</td>\n",
              "      <td>0.996965</td>\n",
              "      <td>1.000000</td>\n",
              "      <td>1.000000</td>\n",
              "      <td>0.989899</td>\n",
              "    </tr>\n",
              "    <tr>\n",
              "      <td>1989.0</td>\n",
              "      <td>1.000000</td>\n",
              "      <td>1.000000</td>\n",
              "      <td>1.000000</td>\n",
              "      <td>1.000000</td>\n",
              "    </tr>\n",
              "    <tr>\n",
              "      <td>1990.0</td>\n",
              "      <td>1.000000</td>\n",
              "      <td>1.000000</td>\n",
              "      <td>1.000000</td>\n",
              "      <td>1.000000</td>\n",
              "    </tr>\n",
              "    <tr>\n",
              "      <td>1991.0</td>\n",
              "      <td>1.000000</td>\n",
              "      <td>1.000000</td>\n",
              "      <td>1.000000</td>\n",
              "      <td>1.000000</td>\n",
              "    </tr>\n",
              "    <tr>\n",
              "      <td>1992.0</td>\n",
              "      <td>1.000000</td>\n",
              "      <td>1.000000</td>\n",
              "      <td>0.999410</td>\n",
              "      <td>1.000000</td>\n",
              "    </tr>\n",
              "    <tr>\n",
              "      <td>1993.0</td>\n",
              "      <td>1.000000</td>\n",
              "      <td>1.000000</td>\n",
              "      <td>1.000000</td>\n",
              "      <td>1.000000</td>\n",
              "    </tr>\n",
              "    <tr>\n",
              "      <td>1994.0</td>\n",
              "      <td>0.982527</td>\n",
              "      <td>0.984407</td>\n",
              "      <td>0.986151</td>\n",
              "      <td>0.963636</td>\n",
              "    </tr>\n",
              "    <tr>\n",
              "      <td>1995.0</td>\n",
              "      <td>1.000000</td>\n",
              "      <td>1.000000</td>\n",
              "      <td>1.000000</td>\n",
              "      <td>1.000000</td>\n",
              "    </tr>\n",
              "    <tr>\n",
              "      <td>1996.0</td>\n",
              "      <td>0.852306</td>\n",
              "      <td>0.929318</td>\n",
              "      <td>0.907215</td>\n",
              "      <td>0.836151</td>\n",
              "    </tr>\n",
              "    <tr>\n",
              "      <td>1997.0</td>\n",
              "      <td>0.750621</td>\n",
              "      <td>0.796399</td>\n",
              "      <td>0.796201</td>\n",
              "      <td>0.729463</td>\n",
              "    </tr>\n",
              "    <tr>\n",
              "      <td>1998.0</td>\n",
              "      <td>0.797010</td>\n",
              "      <td>0.754996</td>\n",
              "      <td>0.835307</td>\n",
              "      <td>0.775658</td>\n",
              "    </tr>\n",
              "    <tr>\n",
              "      <td>1999.0</td>\n",
              "      <td>0.731131</td>\n",
              "      <td>0.815246</td>\n",
              "      <td>0.801364</td>\n",
              "      <td>0.737052</td>\n",
              "    </tr>\n",
              "    <tr>\n",
              "      <td>2000.0</td>\n",
              "      <td>0.432064</td>\n",
              "      <td>0.729016</td>\n",
              "      <td>0.512381</td>\n",
              "      <td>0.435456</td>\n",
              "    </tr>\n",
              "    <tr>\n",
              "      <td>2001.0</td>\n",
              "      <td>0.184213</td>\n",
              "      <td>0.399900</td>\n",
              "      <td>0.142488</td>\n",
              "      <td>0.157061</td>\n",
              "    </tr>\n",
              "    <tr>\n",
              "      <td>2002.0</td>\n",
              "      <td>0.181412</td>\n",
              "      <td>0.548372</td>\n",
              "      <td>0.174522</td>\n",
              "      <td>0.153282</td>\n",
              "    </tr>\n",
              "    <tr>\n",
              "      <td>2003.0</td>\n",
              "      <td>0.244870</td>\n",
              "      <td>0.495906</td>\n",
              "      <td>0.221373</td>\n",
              "      <td>0.218364</td>\n",
              "    </tr>\n",
              "    <tr>\n",
              "      <td>2004.0</td>\n",
              "      <td>0.187360</td>\n",
              "      <td>0.442017</td>\n",
              "      <td>0.171498</td>\n",
              "      <td>0.095682</td>\n",
              "    </tr>\n",
              "    <tr>\n",
              "      <td>2005.0</td>\n",
              "      <td>0.248947</td>\n",
              "      <td>0.292242</td>\n",
              "      <td>0.215941</td>\n",
              "      <td>0.202780</td>\n",
              "    </tr>\n",
              "    <tr>\n",
              "      <td>2006.0</td>\n",
              "      <td>0.167409</td>\n",
              "      <td>0.433957</td>\n",
              "      <td>0.111166</td>\n",
              "      <td>0.134198</td>\n",
              "    </tr>\n",
              "    <tr>\n",
              "      <td>2007.0</td>\n",
              "      <td>0.185401</td>\n",
              "      <td>0.405872</td>\n",
              "      <td>0.192100</td>\n",
              "      <td>0.184886</td>\n",
              "    </tr>\n",
              "    <tr>\n",
              "      <td>2008.0</td>\n",
              "      <td>0.204096</td>\n",
              "      <td>0.373278</td>\n",
              "      <td>0.222346</td>\n",
              "      <td>0.248465</td>\n",
              "    </tr>\n",
              "    <tr>\n",
              "      <td>2009.0</td>\n",
              "      <td>0.204161</td>\n",
              "      <td>0.441913</td>\n",
              "      <td>0.265564</td>\n",
              "      <td>0.281727</td>\n",
              "    </tr>\n",
              "    <tr>\n",
              "      <td>2010.0</td>\n",
              "      <td>0.213744</td>\n",
              "      <td>0.565137</td>\n",
              "      <td>0.255779</td>\n",
              "      <td>0.215298</td>\n",
              "    </tr>\n",
              "    <tr>\n",
              "      <td>2011.0</td>\n",
              "      <td>0.194944</td>\n",
              "      <td>0.549086</td>\n",
              "      <td>0.183299</td>\n",
              "      <td>0.182938</td>\n",
              "    </tr>\n",
              "    <tr>\n",
              "      <td>2012.0</td>\n",
              "      <td>0.123658</td>\n",
              "      <td>0.471815</td>\n",
              "      <td>0.126060</td>\n",
              "      <td>0.120475</td>\n",
              "    </tr>\n",
              "    <tr>\n",
              "      <td>2013.0</td>\n",
              "      <td>0.210119</td>\n",
              "      <td>0.598658</td>\n",
              "      <td>0.211194</td>\n",
              "      <td>0.168188</td>\n",
              "    </tr>\n",
              "    <tr>\n",
              "      <td>2014.0</td>\n",
              "      <td>0.370702</td>\n",
              "      <td>0.645251</td>\n",
              "      <td>0.399562</td>\n",
              "      <td>0.385012</td>\n",
              "    </tr>\n",
              "    <tr>\n",
              "      <td>2015.0</td>\n",
              "      <td>0.365902</td>\n",
              "      <td>0.649164</td>\n",
              "      <td>0.360940</td>\n",
              "      <td>0.371495</td>\n",
              "    </tr>\n",
              "    <tr>\n",
              "      <td>2016.0</td>\n",
              "      <td>0.188989</td>\n",
              "      <td>0.772139</td>\n",
              "      <td>0.219898</td>\n",
              "      <td>0.192680</td>\n",
              "    </tr>\n",
              "  </tbody>\n",
              "</table>\n",
              "</div>"
            ],
            "text/plain": [
              "                      sum                                \n",
              "                 eu_sales  jp_sales  na_sales other_sales\n",
              "year_of_release                                          \n",
              "1980.0           1.000000       NaN  1.000000    1.000000\n",
              "1981.0           1.000000       NaN  1.000000    1.000000\n",
              "1982.0           1.000000       NaN  1.000000    1.000000\n",
              "1983.0           1.000000  1.000000  1.000000    1.000000\n",
              "1984.0           1.000000  1.000000  1.000000    1.000000\n",
              "1985.0           0.993671  1.000000  1.000000    0.989130\n",
              "1986.0           1.000000  1.000000  1.000000    1.000000\n",
              "1987.0           1.000000  1.000000  1.000000    1.000000\n",
              "1988.0           0.996965  1.000000  1.000000    0.989899\n",
              "1989.0           1.000000  1.000000  1.000000    1.000000\n",
              "1990.0           1.000000  1.000000  1.000000    1.000000\n",
              "1991.0           1.000000  1.000000  1.000000    1.000000\n",
              "1992.0           1.000000  1.000000  0.999410    1.000000\n",
              "1993.0           1.000000  1.000000  1.000000    1.000000\n",
              "1994.0           0.982527  0.984407  0.986151    0.963636\n",
              "1995.0           1.000000  1.000000  1.000000    1.000000\n",
              "1996.0           0.852306  0.929318  0.907215    0.836151\n",
              "1997.0           0.750621  0.796399  0.796201    0.729463\n",
              "1998.0           0.797010  0.754996  0.835307    0.775658\n",
              "1999.0           0.731131  0.815246  0.801364    0.737052\n",
              "2000.0           0.432064  0.729016  0.512381    0.435456\n",
              "2001.0           0.184213  0.399900  0.142488    0.157061\n",
              "2002.0           0.181412  0.548372  0.174522    0.153282\n",
              "2003.0           0.244870  0.495906  0.221373    0.218364\n",
              "2004.0           0.187360  0.442017  0.171498    0.095682\n",
              "2005.0           0.248947  0.292242  0.215941    0.202780\n",
              "2006.0           0.167409  0.433957  0.111166    0.134198\n",
              "2007.0           0.185401  0.405872  0.192100    0.184886\n",
              "2008.0           0.204096  0.373278  0.222346    0.248465\n",
              "2009.0           0.204161  0.441913  0.265564    0.281727\n",
              "2010.0           0.213744  0.565137  0.255779    0.215298\n",
              "2011.0           0.194944  0.549086  0.183299    0.182938\n",
              "2012.0           0.123658  0.471815  0.126060    0.120475\n",
              "2013.0           0.210119  0.598658  0.211194    0.168188\n",
              "2014.0           0.370702  0.645251  0.399562    0.385012\n",
              "2015.0           0.365902  0.649164  0.360940    0.371495\n",
              "2016.0           0.188989  0.772139  0.219898    0.192680"
            ]
          },
          "metadata": {
            "tags": []
          },
          "execution_count": 8
        }
      ]
    },
    {
      "cell_type": "markdown",
      "metadata": {
        "id": "DIE1HstRszDL"
      },
      "source": [
        "Продажи игр, у которых не указан итоговый рейтинг составляют существенную долю продаж, удалять указанные строки нельзя. Давайте выделим эти игры в отдельную категорию, для этого, чтобы в ячейках все-таки присутствовали значения - заполним их значением \"999\"."
      ]
    },
    {
      "cell_type": "code",
      "metadata": {
        "colab": {
          "base_uri": "https://localhost:8080/",
          "height": 416
        },
        "id": "i6bIM95su0xr",
        "outputId": "45fd7303-670d-4089-a779-1aa722576d1d"
      },
      "source": [
        "data[['critic_score', 'user_score', 'rating']]=data[['critic_score', 'user_score', 'rating']].fillna(999)\n",
        "data"
      ],
      "execution_count": null,
      "outputs": [
        {
          "output_type": "execute_result",
          "data": {
            "text/html": [
              "<div>\n",
              "<style scoped>\n",
              "    .dataframe tbody tr th:only-of-type {\n",
              "        vertical-align: middle;\n",
              "    }\n",
              "\n",
              "    .dataframe tbody tr th {\n",
              "        vertical-align: top;\n",
              "    }\n",
              "\n",
              "    .dataframe thead th {\n",
              "        text-align: right;\n",
              "    }\n",
              "</style>\n",
              "<table border=\"1\" class=\"dataframe\">\n",
              "  <thead>\n",
              "    <tr style=\"text-align: right;\">\n",
              "      <th></th>\n",
              "      <th>name</th>\n",
              "      <th>platform</th>\n",
              "      <th>year_of_release</th>\n",
              "      <th>genre</th>\n",
              "      <th>na_sales</th>\n",
              "      <th>eu_sales</th>\n",
              "      <th>jp_sales</th>\n",
              "      <th>other_sales</th>\n",
              "      <th>critic_score</th>\n",
              "      <th>user_score</th>\n",
              "      <th>rating</th>\n",
              "    </tr>\n",
              "  </thead>\n",
              "  <tbody>\n",
              "    <tr>\n",
              "      <td>0</td>\n",
              "      <td>wii sports</td>\n",
              "      <td>wii</td>\n",
              "      <td>2006.0</td>\n",
              "      <td>sports</td>\n",
              "      <td>41.36</td>\n",
              "      <td>28.96</td>\n",
              "      <td>3.77</td>\n",
              "      <td>8.45</td>\n",
              "      <td>76.0</td>\n",
              "      <td>8</td>\n",
              "      <td>E</td>\n",
              "    </tr>\n",
              "    <tr>\n",
              "      <td>1</td>\n",
              "      <td>super mario bros.</td>\n",
              "      <td>nes</td>\n",
              "      <td>1985.0</td>\n",
              "      <td>platform</td>\n",
              "      <td>29.08</td>\n",
              "      <td>3.58</td>\n",
              "      <td>6.81</td>\n",
              "      <td>0.77</td>\n",
              "      <td>999.0</td>\n",
              "      <td>999</td>\n",
              "      <td>999</td>\n",
              "    </tr>\n",
              "    <tr>\n",
              "      <td>2</td>\n",
              "      <td>mario kart wii</td>\n",
              "      <td>wii</td>\n",
              "      <td>2008.0</td>\n",
              "      <td>racing</td>\n",
              "      <td>15.68</td>\n",
              "      <td>12.76</td>\n",
              "      <td>3.79</td>\n",
              "      <td>3.29</td>\n",
              "      <td>82.0</td>\n",
              "      <td>8.3</td>\n",
              "      <td>E</td>\n",
              "    </tr>\n",
              "    <tr>\n",
              "      <td>3</td>\n",
              "      <td>wii sports resort</td>\n",
              "      <td>wii</td>\n",
              "      <td>2009.0</td>\n",
              "      <td>sports</td>\n",
              "      <td>15.61</td>\n",
              "      <td>10.93</td>\n",
              "      <td>3.28</td>\n",
              "      <td>2.95</td>\n",
              "      <td>80.0</td>\n",
              "      <td>8</td>\n",
              "      <td>E</td>\n",
              "    </tr>\n",
              "    <tr>\n",
              "      <td>4</td>\n",
              "      <td>pokemon red/pokemon blue</td>\n",
              "      <td>gb</td>\n",
              "      <td>1996.0</td>\n",
              "      <td>role-playing</td>\n",
              "      <td>11.27</td>\n",
              "      <td>8.89</td>\n",
              "      <td>10.22</td>\n",
              "      <td>1.00</td>\n",
              "      <td>999.0</td>\n",
              "      <td>999</td>\n",
              "      <td>999</td>\n",
              "    </tr>\n",
              "    <tr>\n",
              "      <td>...</td>\n",
              "      <td>...</td>\n",
              "      <td>...</td>\n",
              "      <td>...</td>\n",
              "      <td>...</td>\n",
              "      <td>...</td>\n",
              "      <td>...</td>\n",
              "      <td>...</td>\n",
              "      <td>...</td>\n",
              "      <td>...</td>\n",
              "      <td>...</td>\n",
              "      <td>...</td>\n",
              "    </tr>\n",
              "    <tr>\n",
              "      <td>16710</td>\n",
              "      <td>samurai warriors: sanada maru</td>\n",
              "      <td>ps3</td>\n",
              "      <td>2016.0</td>\n",
              "      <td>action</td>\n",
              "      <td>0.00</td>\n",
              "      <td>0.00</td>\n",
              "      <td>0.01</td>\n",
              "      <td>0.00</td>\n",
              "      <td>999.0</td>\n",
              "      <td>999</td>\n",
              "      <td>999</td>\n",
              "    </tr>\n",
              "    <tr>\n",
              "      <td>16711</td>\n",
              "      <td>lma manager 2007</td>\n",
              "      <td>x360</td>\n",
              "      <td>2006.0</td>\n",
              "      <td>sports</td>\n",
              "      <td>0.00</td>\n",
              "      <td>0.01</td>\n",
              "      <td>0.00</td>\n",
              "      <td>0.00</td>\n",
              "      <td>999.0</td>\n",
              "      <td>999</td>\n",
              "      <td>999</td>\n",
              "    </tr>\n",
              "    <tr>\n",
              "      <td>16712</td>\n",
              "      <td>haitaka no psychedelica</td>\n",
              "      <td>psv</td>\n",
              "      <td>2016.0</td>\n",
              "      <td>adventure</td>\n",
              "      <td>0.00</td>\n",
              "      <td>0.00</td>\n",
              "      <td>0.01</td>\n",
              "      <td>0.00</td>\n",
              "      <td>999.0</td>\n",
              "      <td>999</td>\n",
              "      <td>999</td>\n",
              "    </tr>\n",
              "    <tr>\n",
              "      <td>16713</td>\n",
              "      <td>spirits &amp; spells</td>\n",
              "      <td>gba</td>\n",
              "      <td>2003.0</td>\n",
              "      <td>platform</td>\n",
              "      <td>0.01</td>\n",
              "      <td>0.00</td>\n",
              "      <td>0.00</td>\n",
              "      <td>0.00</td>\n",
              "      <td>999.0</td>\n",
              "      <td>999</td>\n",
              "      <td>999</td>\n",
              "    </tr>\n",
              "    <tr>\n",
              "      <td>16714</td>\n",
              "      <td>winning post 8 2016</td>\n",
              "      <td>psv</td>\n",
              "      <td>2016.0</td>\n",
              "      <td>simulation</td>\n",
              "      <td>0.00</td>\n",
              "      <td>0.00</td>\n",
              "      <td>0.01</td>\n",
              "      <td>0.00</td>\n",
              "      <td>999.0</td>\n",
              "      <td>999</td>\n",
              "      <td>999</td>\n",
              "    </tr>\n",
              "  </tbody>\n",
              "</table>\n",
              "<p>16444 rows × 11 columns</p>\n",
              "</div>"
            ],
            "text/plain": [
              "                                name platform  year_of_release         genre  \\\n",
              "0                         wii sports      wii           2006.0        sports   \n",
              "1                  super mario bros.      nes           1985.0      platform   \n",
              "2                     mario kart wii      wii           2008.0        racing   \n",
              "3                  wii sports resort      wii           2009.0        sports   \n",
              "4           pokemon red/pokemon blue       gb           1996.0  role-playing   \n",
              "...                              ...      ...              ...           ...   \n",
              "16710  samurai warriors: sanada maru      ps3           2016.0        action   \n",
              "16711               lma manager 2007     x360           2006.0        sports   \n",
              "16712        haitaka no psychedelica      psv           2016.0     adventure   \n",
              "16713               spirits & spells      gba           2003.0      platform   \n",
              "16714            winning post 8 2016      psv           2016.0    simulation   \n",
              "\n",
              "       na_sales  eu_sales  jp_sales  other_sales  critic_score user_score  \\\n",
              "0         41.36     28.96      3.77         8.45          76.0          8   \n",
              "1         29.08      3.58      6.81         0.77         999.0        999   \n",
              "2         15.68     12.76      3.79         3.29          82.0        8.3   \n",
              "3         15.61     10.93      3.28         2.95          80.0          8   \n",
              "4         11.27      8.89     10.22         1.00         999.0        999   \n",
              "...         ...       ...       ...          ...           ...        ...   \n",
              "16710      0.00      0.00      0.01         0.00         999.0        999   \n",
              "16711      0.00      0.01      0.00         0.00         999.0        999   \n",
              "16712      0.00      0.00      0.01         0.00         999.0        999   \n",
              "16713      0.01      0.00      0.00         0.00         999.0        999   \n",
              "16714      0.00      0.00      0.01         0.00         999.0        999   \n",
              "\n",
              "      rating  \n",
              "0          E  \n",
              "1        999  \n",
              "2          E  \n",
              "3          E  \n",
              "4        999  \n",
              "...      ...  \n",
              "16710    999  \n",
              "16711    999  \n",
              "16712    999  \n",
              "16713    999  \n",
              "16714    999  \n",
              "\n",
              "[16444 rows x 11 columns]"
            ]
          },
          "metadata": {
            "tags": []
          },
          "execution_count": 9
        }
      ]
    },
    {
      "cell_type": "markdown",
      "metadata": {
        "id": "-AVCMm-6dVqd"
      },
      "source": [
        "Теперь приведем колонку с датой выпуска к соответствующему типу."
      ]
    },
    {
      "cell_type": "code",
      "metadata": {
        "colab": {
          "base_uri": "https://localhost:8080/",
          "height": 416
        },
        "id": "h2IGEMiidUzq",
        "outputId": "d23f571b-5800-4aaa-bde5-fe687b94cd0d"
      },
      "source": [
        "data['year_of_release'] = data['year_of_release'].astype('int')\n",
        "data['year_of_release'] = pd.to_datetime(data['year_of_release'], format='%Y')\n",
        "data['year_of_release'] = data['year_of_release'].dt.year\n",
        "data"
      ],
      "execution_count": null,
      "outputs": [
        {
          "output_type": "execute_result",
          "data": {
            "text/html": [
              "<div>\n",
              "<style scoped>\n",
              "    .dataframe tbody tr th:only-of-type {\n",
              "        vertical-align: middle;\n",
              "    }\n",
              "\n",
              "    .dataframe tbody tr th {\n",
              "        vertical-align: top;\n",
              "    }\n",
              "\n",
              "    .dataframe thead th {\n",
              "        text-align: right;\n",
              "    }\n",
              "</style>\n",
              "<table border=\"1\" class=\"dataframe\">\n",
              "  <thead>\n",
              "    <tr style=\"text-align: right;\">\n",
              "      <th></th>\n",
              "      <th>name</th>\n",
              "      <th>platform</th>\n",
              "      <th>year_of_release</th>\n",
              "      <th>genre</th>\n",
              "      <th>na_sales</th>\n",
              "      <th>eu_sales</th>\n",
              "      <th>jp_sales</th>\n",
              "      <th>other_sales</th>\n",
              "      <th>critic_score</th>\n",
              "      <th>user_score</th>\n",
              "      <th>rating</th>\n",
              "    </tr>\n",
              "  </thead>\n",
              "  <tbody>\n",
              "    <tr>\n",
              "      <td>0</td>\n",
              "      <td>wii sports</td>\n",
              "      <td>wii</td>\n",
              "      <td>2006</td>\n",
              "      <td>sports</td>\n",
              "      <td>41.36</td>\n",
              "      <td>28.96</td>\n",
              "      <td>3.77</td>\n",
              "      <td>8.45</td>\n",
              "      <td>76.0</td>\n",
              "      <td>8</td>\n",
              "      <td>E</td>\n",
              "    </tr>\n",
              "    <tr>\n",
              "      <td>1</td>\n",
              "      <td>super mario bros.</td>\n",
              "      <td>nes</td>\n",
              "      <td>1985</td>\n",
              "      <td>platform</td>\n",
              "      <td>29.08</td>\n",
              "      <td>3.58</td>\n",
              "      <td>6.81</td>\n",
              "      <td>0.77</td>\n",
              "      <td>999.0</td>\n",
              "      <td>999</td>\n",
              "      <td>999</td>\n",
              "    </tr>\n",
              "    <tr>\n",
              "      <td>2</td>\n",
              "      <td>mario kart wii</td>\n",
              "      <td>wii</td>\n",
              "      <td>2008</td>\n",
              "      <td>racing</td>\n",
              "      <td>15.68</td>\n",
              "      <td>12.76</td>\n",
              "      <td>3.79</td>\n",
              "      <td>3.29</td>\n",
              "      <td>82.0</td>\n",
              "      <td>8.3</td>\n",
              "      <td>E</td>\n",
              "    </tr>\n",
              "    <tr>\n",
              "      <td>3</td>\n",
              "      <td>wii sports resort</td>\n",
              "      <td>wii</td>\n",
              "      <td>2009</td>\n",
              "      <td>sports</td>\n",
              "      <td>15.61</td>\n",
              "      <td>10.93</td>\n",
              "      <td>3.28</td>\n",
              "      <td>2.95</td>\n",
              "      <td>80.0</td>\n",
              "      <td>8</td>\n",
              "      <td>E</td>\n",
              "    </tr>\n",
              "    <tr>\n",
              "      <td>4</td>\n",
              "      <td>pokemon red/pokemon blue</td>\n",
              "      <td>gb</td>\n",
              "      <td>1996</td>\n",
              "      <td>role-playing</td>\n",
              "      <td>11.27</td>\n",
              "      <td>8.89</td>\n",
              "      <td>10.22</td>\n",
              "      <td>1.00</td>\n",
              "      <td>999.0</td>\n",
              "      <td>999</td>\n",
              "      <td>999</td>\n",
              "    </tr>\n",
              "    <tr>\n",
              "      <td>...</td>\n",
              "      <td>...</td>\n",
              "      <td>...</td>\n",
              "      <td>...</td>\n",
              "      <td>...</td>\n",
              "      <td>...</td>\n",
              "      <td>...</td>\n",
              "      <td>...</td>\n",
              "      <td>...</td>\n",
              "      <td>...</td>\n",
              "      <td>...</td>\n",
              "      <td>...</td>\n",
              "    </tr>\n",
              "    <tr>\n",
              "      <td>16710</td>\n",
              "      <td>samurai warriors: sanada maru</td>\n",
              "      <td>ps3</td>\n",
              "      <td>2016</td>\n",
              "      <td>action</td>\n",
              "      <td>0.00</td>\n",
              "      <td>0.00</td>\n",
              "      <td>0.01</td>\n",
              "      <td>0.00</td>\n",
              "      <td>999.0</td>\n",
              "      <td>999</td>\n",
              "      <td>999</td>\n",
              "    </tr>\n",
              "    <tr>\n",
              "      <td>16711</td>\n",
              "      <td>lma manager 2007</td>\n",
              "      <td>x360</td>\n",
              "      <td>2006</td>\n",
              "      <td>sports</td>\n",
              "      <td>0.00</td>\n",
              "      <td>0.01</td>\n",
              "      <td>0.00</td>\n",
              "      <td>0.00</td>\n",
              "      <td>999.0</td>\n",
              "      <td>999</td>\n",
              "      <td>999</td>\n",
              "    </tr>\n",
              "    <tr>\n",
              "      <td>16712</td>\n",
              "      <td>haitaka no psychedelica</td>\n",
              "      <td>psv</td>\n",
              "      <td>2016</td>\n",
              "      <td>adventure</td>\n",
              "      <td>0.00</td>\n",
              "      <td>0.00</td>\n",
              "      <td>0.01</td>\n",
              "      <td>0.00</td>\n",
              "      <td>999.0</td>\n",
              "      <td>999</td>\n",
              "      <td>999</td>\n",
              "    </tr>\n",
              "    <tr>\n",
              "      <td>16713</td>\n",
              "      <td>spirits &amp; spells</td>\n",
              "      <td>gba</td>\n",
              "      <td>2003</td>\n",
              "      <td>platform</td>\n",
              "      <td>0.01</td>\n",
              "      <td>0.00</td>\n",
              "      <td>0.00</td>\n",
              "      <td>0.00</td>\n",
              "      <td>999.0</td>\n",
              "      <td>999</td>\n",
              "      <td>999</td>\n",
              "    </tr>\n",
              "    <tr>\n",
              "      <td>16714</td>\n",
              "      <td>winning post 8 2016</td>\n",
              "      <td>psv</td>\n",
              "      <td>2016</td>\n",
              "      <td>simulation</td>\n",
              "      <td>0.00</td>\n",
              "      <td>0.00</td>\n",
              "      <td>0.01</td>\n",
              "      <td>0.00</td>\n",
              "      <td>999.0</td>\n",
              "      <td>999</td>\n",
              "      <td>999</td>\n",
              "    </tr>\n",
              "  </tbody>\n",
              "</table>\n",
              "<p>16444 rows × 11 columns</p>\n",
              "</div>"
            ],
            "text/plain": [
              "                                name platform  year_of_release         genre  \\\n",
              "0                         wii sports      wii             2006        sports   \n",
              "1                  super mario bros.      nes             1985      platform   \n",
              "2                     mario kart wii      wii             2008        racing   \n",
              "3                  wii sports resort      wii             2009        sports   \n",
              "4           pokemon red/pokemon blue       gb             1996  role-playing   \n",
              "...                              ...      ...              ...           ...   \n",
              "16710  samurai warriors: sanada maru      ps3             2016        action   \n",
              "16711               lma manager 2007     x360             2006        sports   \n",
              "16712        haitaka no psychedelica      psv             2016     adventure   \n",
              "16713               spirits & spells      gba             2003      platform   \n",
              "16714            winning post 8 2016      psv             2016    simulation   \n",
              "\n",
              "       na_sales  eu_sales  jp_sales  other_sales  critic_score user_score  \\\n",
              "0         41.36     28.96      3.77         8.45          76.0          8   \n",
              "1         29.08      3.58      6.81         0.77         999.0        999   \n",
              "2         15.68     12.76      3.79         3.29          82.0        8.3   \n",
              "3         15.61     10.93      3.28         2.95          80.0          8   \n",
              "4         11.27      8.89     10.22         1.00         999.0        999   \n",
              "...         ...       ...       ...          ...           ...        ...   \n",
              "16710      0.00      0.00      0.01         0.00         999.0        999   \n",
              "16711      0.00      0.01      0.00         0.00         999.0        999   \n",
              "16712      0.00      0.00      0.01         0.00         999.0        999   \n",
              "16713      0.01      0.00      0.00         0.00         999.0        999   \n",
              "16714      0.00      0.00      0.01         0.00         999.0        999   \n",
              "\n",
              "      rating  \n",
              "0          E  \n",
              "1        999  \n",
              "2          E  \n",
              "3          E  \n",
              "4        999  \n",
              "...      ...  \n",
              "16710    999  \n",
              "16711    999  \n",
              "16712    999  \n",
              "16713    999  \n",
              "16714    999  \n",
              "\n",
              "[16444 rows x 11 columns]"
            ]
          },
          "metadata": {
            "tags": []
          },
          "execution_count": 10
        }
      ]
    },
    {
      "cell_type": "markdown",
      "metadata": {
        "id": "iSchTMnLvss0"
      },
      "source": [
        "Посмотрим, что содержится в колонке 'user_score' из-за чего она имеет тип object"
      ]
    },
    {
      "cell_type": "code",
      "metadata": {
        "colab": {
          "base_uri": "https://localhost:8080/"
        },
        "id": "uHN84Ax9vfxo",
        "outputId": "7df6ff82-7f79-49ea-b7de-921d24a3913f"
      },
      "source": [
        "data['user_score'].value_counts()"
      ],
      "execution_count": null,
      "outputs": [
        {
          "output_type": "execute_result",
          "data": {
            "text/plain": [
              "999    6605\n",
              "tbd    2376\n",
              "7.8     322\n",
              "8       285\n",
              "8.2     276\n",
              "       ... \n",
              "1.9       2\n",
              "1.5       2\n",
              "0.6       2\n",
              "9.7       1\n",
              "0         1\n",
              "Name: user_score, Length: 97, dtype: int64"
            ]
          },
          "metadata": {
            "tags": []
          },
          "execution_count": 11
        }
      ]
    },
    {
      "cell_type": "markdown",
      "metadata": {
        "id": "zN8CwxAov6bn"
      },
      "source": [
        "Мы видим, что 2376 игр имеют значение tbd, что означает - To Be Determined (будет определено). Это означает, что рейтинг игры еще не определен. Заменим указанное значение на \"555\"."
      ]
    },
    {
      "cell_type": "code",
      "metadata": {
        "colab": {
          "base_uri": "https://localhost:8080/"
        },
        "id": "I0XJ_vBIwStg",
        "outputId": "b5afd10c-b6a2-4bbc-cdbb-cbe9e7ee8531"
      },
      "source": [
        "data['user_score'] = data['user_score'].replace('tbd', 555)\n",
        "data['user_score'] = data['user_score'].astype('float64')\n",
        "data.info()"
      ],
      "execution_count": null,
      "outputs": [
        {
          "output_type": "stream",
          "text": [
            "<class 'pandas.core.frame.DataFrame'>\n",
            "Int64Index: 16444 entries, 0 to 16714\n",
            "Data columns (total 11 columns):\n",
            "name               16444 non-null object\n",
            "platform           16444 non-null object\n",
            "year_of_release    16444 non-null int64\n",
            "genre              16444 non-null object\n",
            "na_sales           16444 non-null float64\n",
            "eu_sales           16444 non-null float64\n",
            "jp_sales           16444 non-null float64\n",
            "other_sales        16444 non-null float64\n",
            "critic_score       16444 non-null float64\n",
            "user_score         16444 non-null float64\n",
            "rating             16444 non-null object\n",
            "dtypes: float64(6), int64(1), object(4)\n",
            "memory usage: 1.5+ MB\n"
          ],
          "name": "stdout"
        }
      ]
    },
    {
      "cell_type": "markdown",
      "metadata": {
        "id": "n99_w2zdxXtl"
      },
      "source": [
        "Теперь также проверим столбец 'rating'"
      ]
    },
    {
      "cell_type": "code",
      "metadata": {
        "colab": {
          "base_uri": "https://localhost:8080/"
        },
        "id": "er71CsqQxdQZ",
        "outputId": "e6a028dc-d156-4cfd-eb70-989213c09c53"
      },
      "source": [
        "data['rating'].value_counts()"
      ],
      "execution_count": null,
      "outputs": [
        {
          "output_type": "execute_result",
          "data": {
            "text/plain": [
              "999     6676\n",
              "E       3921\n",
              "T       2905\n",
              "M       1536\n",
              "E10+    1393\n",
              "EC         8\n",
              "K-A        3\n",
              "RP         1\n",
              "AO         1\n",
              "Name: rating, dtype: int64"
            ]
          },
          "metadata": {
            "tags": []
          },
          "execution_count": 13
        }
      ]
    },
    {
      "cell_type": "markdown",
      "metadata": {
        "id": "Ju7YabRfyPep"
      },
      "source": [
        "В этом столбце содержится информация о присвоенном рейтинге Entertainment Software Rating Board (ESRB).  \n",
        "E - «Everyone» — «Для всех»  \n",
        "T - «Teen» — «Подросткам»  \n",
        "M - «Mature» — «Для взрослых»  \n",
        "E10+ - «Everyone 10 and older» — «Для всех от 10 лет и старше»  \n",
        "EC - «Early childhood» — «Для детей младшего возраста»  \n",
        "K-A - версия «Early childhood» до 1998 года  \n",
        "АО - Adults only - устаревшая аббревиатура «Mature» — «Для взрослых»  \n",
        "RP - «Rating Pending» — «Рейтинг ожидается»"
      ]
    },
    {
      "cell_type": "markdown",
      "metadata": {
        "id": "Elqspl5oztAa"
      },
      "source": [
        "## Расчёты и добавление результатов в таблицу"
      ]
    },
    {
      "cell_type": "markdown",
      "metadata": {
        "id": "282Kmjq_zzpn"
      },
      "source": [
        "Рассчитаем суммарные продажи во всех регионах и запишем их в отдельный столбец."
      ]
    },
    {
      "cell_type": "code",
      "metadata": {
        "colab": {
          "base_uri": "https://localhost:8080/",
          "height": 416
        },
        "id": "DGSigKmcZP1q",
        "outputId": "895541c9-ae5f-47af-b333-ce02e40ecabe"
      },
      "source": [
        "data['total_sales'] = data[['na_sales','eu_sales','jp_sales','other_sales']].sum(axis=1)\n",
        "data"
      ],
      "execution_count": null,
      "outputs": [
        {
          "output_type": "execute_result",
          "data": {
            "text/html": [
              "<div>\n",
              "<style scoped>\n",
              "    .dataframe tbody tr th:only-of-type {\n",
              "        vertical-align: middle;\n",
              "    }\n",
              "\n",
              "    .dataframe tbody tr th {\n",
              "        vertical-align: top;\n",
              "    }\n",
              "\n",
              "    .dataframe thead th {\n",
              "        text-align: right;\n",
              "    }\n",
              "</style>\n",
              "<table border=\"1\" class=\"dataframe\">\n",
              "  <thead>\n",
              "    <tr style=\"text-align: right;\">\n",
              "      <th></th>\n",
              "      <th>name</th>\n",
              "      <th>platform</th>\n",
              "      <th>year_of_release</th>\n",
              "      <th>genre</th>\n",
              "      <th>na_sales</th>\n",
              "      <th>eu_sales</th>\n",
              "      <th>jp_sales</th>\n",
              "      <th>other_sales</th>\n",
              "      <th>critic_score</th>\n",
              "      <th>user_score</th>\n",
              "      <th>rating</th>\n",
              "      <th>total_sales</th>\n",
              "    </tr>\n",
              "  </thead>\n",
              "  <tbody>\n",
              "    <tr>\n",
              "      <td>0</td>\n",
              "      <td>wii sports</td>\n",
              "      <td>wii</td>\n",
              "      <td>2006</td>\n",
              "      <td>sports</td>\n",
              "      <td>41.36</td>\n",
              "      <td>28.96</td>\n",
              "      <td>3.77</td>\n",
              "      <td>8.45</td>\n",
              "      <td>76.0</td>\n",
              "      <td>8.0</td>\n",
              "      <td>E</td>\n",
              "      <td>82.54</td>\n",
              "    </tr>\n",
              "    <tr>\n",
              "      <td>1</td>\n",
              "      <td>super mario bros.</td>\n",
              "      <td>nes</td>\n",
              "      <td>1985</td>\n",
              "      <td>platform</td>\n",
              "      <td>29.08</td>\n",
              "      <td>3.58</td>\n",
              "      <td>6.81</td>\n",
              "      <td>0.77</td>\n",
              "      <td>999.0</td>\n",
              "      <td>999.0</td>\n",
              "      <td>999</td>\n",
              "      <td>40.24</td>\n",
              "    </tr>\n",
              "    <tr>\n",
              "      <td>2</td>\n",
              "      <td>mario kart wii</td>\n",
              "      <td>wii</td>\n",
              "      <td>2008</td>\n",
              "      <td>racing</td>\n",
              "      <td>15.68</td>\n",
              "      <td>12.76</td>\n",
              "      <td>3.79</td>\n",
              "      <td>3.29</td>\n",
              "      <td>82.0</td>\n",
              "      <td>8.3</td>\n",
              "      <td>E</td>\n",
              "      <td>35.52</td>\n",
              "    </tr>\n",
              "    <tr>\n",
              "      <td>3</td>\n",
              "      <td>wii sports resort</td>\n",
              "      <td>wii</td>\n",
              "      <td>2009</td>\n",
              "      <td>sports</td>\n",
              "      <td>15.61</td>\n",
              "      <td>10.93</td>\n",
              "      <td>3.28</td>\n",
              "      <td>2.95</td>\n",
              "      <td>80.0</td>\n",
              "      <td>8.0</td>\n",
              "      <td>E</td>\n",
              "      <td>32.77</td>\n",
              "    </tr>\n",
              "    <tr>\n",
              "      <td>4</td>\n",
              "      <td>pokemon red/pokemon blue</td>\n",
              "      <td>gb</td>\n",
              "      <td>1996</td>\n",
              "      <td>role-playing</td>\n",
              "      <td>11.27</td>\n",
              "      <td>8.89</td>\n",
              "      <td>10.22</td>\n",
              "      <td>1.00</td>\n",
              "      <td>999.0</td>\n",
              "      <td>999.0</td>\n",
              "      <td>999</td>\n",
              "      <td>31.38</td>\n",
              "    </tr>\n",
              "    <tr>\n",
              "      <td>...</td>\n",
              "      <td>...</td>\n",
              "      <td>...</td>\n",
              "      <td>...</td>\n",
              "      <td>...</td>\n",
              "      <td>...</td>\n",
              "      <td>...</td>\n",
              "      <td>...</td>\n",
              "      <td>...</td>\n",
              "      <td>...</td>\n",
              "      <td>...</td>\n",
              "      <td>...</td>\n",
              "      <td>...</td>\n",
              "    </tr>\n",
              "    <tr>\n",
              "      <td>16710</td>\n",
              "      <td>samurai warriors: sanada maru</td>\n",
              "      <td>ps3</td>\n",
              "      <td>2016</td>\n",
              "      <td>action</td>\n",
              "      <td>0.00</td>\n",
              "      <td>0.00</td>\n",
              "      <td>0.01</td>\n",
              "      <td>0.00</td>\n",
              "      <td>999.0</td>\n",
              "      <td>999.0</td>\n",
              "      <td>999</td>\n",
              "      <td>0.01</td>\n",
              "    </tr>\n",
              "    <tr>\n",
              "      <td>16711</td>\n",
              "      <td>lma manager 2007</td>\n",
              "      <td>x360</td>\n",
              "      <td>2006</td>\n",
              "      <td>sports</td>\n",
              "      <td>0.00</td>\n",
              "      <td>0.01</td>\n",
              "      <td>0.00</td>\n",
              "      <td>0.00</td>\n",
              "      <td>999.0</td>\n",
              "      <td>999.0</td>\n",
              "      <td>999</td>\n",
              "      <td>0.01</td>\n",
              "    </tr>\n",
              "    <tr>\n",
              "      <td>16712</td>\n",
              "      <td>haitaka no psychedelica</td>\n",
              "      <td>psv</td>\n",
              "      <td>2016</td>\n",
              "      <td>adventure</td>\n",
              "      <td>0.00</td>\n",
              "      <td>0.00</td>\n",
              "      <td>0.01</td>\n",
              "      <td>0.00</td>\n",
              "      <td>999.0</td>\n",
              "      <td>999.0</td>\n",
              "      <td>999</td>\n",
              "      <td>0.01</td>\n",
              "    </tr>\n",
              "    <tr>\n",
              "      <td>16713</td>\n",
              "      <td>spirits &amp; spells</td>\n",
              "      <td>gba</td>\n",
              "      <td>2003</td>\n",
              "      <td>platform</td>\n",
              "      <td>0.01</td>\n",
              "      <td>0.00</td>\n",
              "      <td>0.00</td>\n",
              "      <td>0.00</td>\n",
              "      <td>999.0</td>\n",
              "      <td>999.0</td>\n",
              "      <td>999</td>\n",
              "      <td>0.01</td>\n",
              "    </tr>\n",
              "    <tr>\n",
              "      <td>16714</td>\n",
              "      <td>winning post 8 2016</td>\n",
              "      <td>psv</td>\n",
              "      <td>2016</td>\n",
              "      <td>simulation</td>\n",
              "      <td>0.00</td>\n",
              "      <td>0.00</td>\n",
              "      <td>0.01</td>\n",
              "      <td>0.00</td>\n",
              "      <td>999.0</td>\n",
              "      <td>999.0</td>\n",
              "      <td>999</td>\n",
              "      <td>0.01</td>\n",
              "    </tr>\n",
              "  </tbody>\n",
              "</table>\n",
              "<p>16444 rows × 12 columns</p>\n",
              "</div>"
            ],
            "text/plain": [
              "                                name platform  year_of_release         genre  \\\n",
              "0                         wii sports      wii             2006        sports   \n",
              "1                  super mario bros.      nes             1985      platform   \n",
              "2                     mario kart wii      wii             2008        racing   \n",
              "3                  wii sports resort      wii             2009        sports   \n",
              "4           pokemon red/pokemon blue       gb             1996  role-playing   \n",
              "...                              ...      ...              ...           ...   \n",
              "16710  samurai warriors: sanada maru      ps3             2016        action   \n",
              "16711               lma manager 2007     x360             2006        sports   \n",
              "16712        haitaka no psychedelica      psv             2016     adventure   \n",
              "16713               spirits & spells      gba             2003      platform   \n",
              "16714            winning post 8 2016      psv             2016    simulation   \n",
              "\n",
              "       na_sales  eu_sales  jp_sales  other_sales  critic_score  user_score  \\\n",
              "0         41.36     28.96      3.77         8.45          76.0         8.0   \n",
              "1         29.08      3.58      6.81         0.77         999.0       999.0   \n",
              "2         15.68     12.76      3.79         3.29          82.0         8.3   \n",
              "3         15.61     10.93      3.28         2.95          80.0         8.0   \n",
              "4         11.27      8.89     10.22         1.00         999.0       999.0   \n",
              "...         ...       ...       ...          ...           ...         ...   \n",
              "16710      0.00      0.00      0.01         0.00         999.0       999.0   \n",
              "16711      0.00      0.01      0.00         0.00         999.0       999.0   \n",
              "16712      0.00      0.00      0.01         0.00         999.0       999.0   \n",
              "16713      0.01      0.00      0.00         0.00         999.0       999.0   \n",
              "16714      0.00      0.00      0.01         0.00         999.0       999.0   \n",
              "\n",
              "      rating  total_sales  \n",
              "0          E        82.54  \n",
              "1        999        40.24  \n",
              "2          E        35.52  \n",
              "3          E        32.77  \n",
              "4        999        31.38  \n",
              "...      ...          ...  \n",
              "16710    999         0.01  \n",
              "16711    999         0.01  \n",
              "16712    999         0.01  \n",
              "16713    999         0.01  \n",
              "16714    999         0.01  \n",
              "\n",
              "[16444 rows x 12 columns]"
            ]
          },
          "metadata": {
            "tags": []
          },
          "execution_count": 14
        }
      ]
    },
    {
      "cell_type": "markdown",
      "metadata": {
        "id": "sl5qXzjL2IyO"
      },
      "source": [
        "## Исследовательский анализ данных"
      ]
    },
    {
      "cell_type": "markdown",
      "metadata": {
        "id": "1Fhj9Ole2NHb"
      },
      "source": [
        "### Количество выпускавшихся игр в год"
      ]
    },
    {
      "cell_type": "markdown",
      "metadata": {
        "id": "QG7kJcI92TZx"
      },
      "source": [
        "Посмотрим, какое количество игр выпускалось каждый год"
      ]
    },
    {
      "cell_type": "code",
      "metadata": {
        "colab": {
          "base_uri": "https://localhost:8080/",
          "height": 365
        },
        "id": "S3N4epetZP1q",
        "outputId": "edfd3721-98c4-44fc-dedb-e7ec336b1269"
      },
      "source": [
        "data.groupby('year_of_release')['name'].count().reset_index().plot(kind='bar',\n",
        "                                                                   x='year_of_release',\n",
        "                                                                   legend=False,\n",
        "                                                                   figsize=(12,5),\n",
        "                                                                   )\n",
        "plt.title('Количество выпущенных игр в год')\n",
        "plt.xlabel('Год')\n",
        "plt.ylabel('Количество')\n",
        "plt.grid()\n",
        "plt.show()\n"
      ],
      "execution_count": null,
      "outputs": [
        {
          "output_type": "display_data",
          "data": {
            "image/png": "[encoded data removed]",
            "text/plain": [
              "<Figure size 864x360 with 1 Axes>"
            ]
          },
          "metadata": {
            "tags": [],
            "needs_background": "light"
          }
        }
      ]
    },
    {
      "cell_type": "markdown",
      "metadata": {
        "id": "3Uxkx3AbEthx"
      },
      "source": [
        "Рост количества выпускаемых игр начался в 1994 году. Пик этого роста был достигнут а 2008-2009 годах, далее тенденция пошла на убыль. Уровень выпуска игр в 2016 году находится на уровне 2001 года."
      ]
    },
    {
      "cell_type": "markdown",
      "metadata": {
        "id": "ZE7JJAScLfBP"
      },
      "source": [
        "Посмотрим суммарные продажи по платформам за весь меющийся у нас период."
      ]
    },
    {
      "cell_type": "code",
      "metadata": {
        "colab": {
          "base_uri": "https://localhost:8080/"
        },
        "id": "ubXzxnhaZP1q",
        "outputId": "4551e751-f6ca-4046-8e74-bb8868df3019"
      },
      "source": [
        "data.groupby('platform')['total_sales'].sum().sort_values(ascending=False)"
      ],
      "execution_count": null,
      "outputs": [
        {
          "output_type": "execute_result",
          "data": {
            "text/plain": [
              "platform\n",
              "ps2     1233.56\n",
              "x360     961.24\n",
              "ps3      931.34\n",
              "wii      891.18\n",
              "ds       802.78\n",
              "ps       727.58\n",
              "ps4      314.14\n",
              "gba      312.88\n",
              "psp      289.53\n",
              "3ds      257.81\n",
              "pc       255.76\n",
              "gb       254.43\n",
              "xb       251.57\n",
              "nes      251.05\n",
              "n64      218.01\n",
              "snes     200.04\n",
              "gc       196.73\n",
              "xone     159.32\n",
              "2600      86.48\n",
              "wiiu      82.19\n",
              "psv       53.81\n",
              "sat       33.59\n",
              "gen       28.35\n",
              "dc        15.95\n",
              "scd        1.86\n",
              "ng         1.44\n",
              "ws         1.42\n",
              "tg16       0.16\n",
              "3do        0.10\n",
              "gg         0.04\n",
              "pcfx       0.03\n",
              "Name: total_sales, dtype: float64"
            ]
          },
          "metadata": {
            "tags": []
          },
          "execution_count": 16
        }
      ]
    },
    {
      "cell_type": "markdown",
      "metadata": {
        "id": "WxZW1lJ_Kx2m"
      },
      "source": [
        "По первым 6-ти платформам построим распределение выпуски игр по годам."
      ]
    },
    {
      "cell_type": "code",
      "metadata": {
        "id": "U_AJmrBNZP1q"
      },
      "source": [
        "def dist_plot (platform):\n",
        "    x1 =  data[(data['platform'] == platform)].groupby('year_of_release')['name'].count().reset_index().plot(kind='bar',\n",
        "                                                                   x='year_of_release',\n",
        "                                                                   legend=False,\n",
        "                                                                   figsize=(7,5),\n",
        "                                                                   )\n",
        "    plt.title('Количество выпущенных ' + platform + ' игр в год')\n",
        "    plt.xlabel('Год')\n",
        "    plt.ylabel('Количество')\n",
        "    plt.grid()\n",
        "    plt.show()"
      ],
      "execution_count": null,
      "outputs": []
    },
    {
      "cell_type": "code",
      "metadata": {
        "colab": {
          "base_uri": "https://localhost:8080/",
          "height": 1000
        },
        "id": "bkNOEQVHZP1r",
        "scrolled": false,
        "outputId": "07e99184-4d60-4a1c-d52d-7ba8eded5094"
      },
      "source": [
        "platform_list = ['ps2', 'x360', 'ps3', 'wii', 'ds', 'ps']\n",
        "for i in platform_list:\n",
        "    dist_plot(i) "
      ],
      "execution_count": null,
      "outputs": [
        {
          "output_type": "display_data",
          "data": {
            "image/png": "[encoded data removed]",
            "text/plain": [
              "<Figure size 504x360 with 1 Axes>"
            ]
          },
          "metadata": {
            "tags": [],
            "needs_background": "light"
          }
        },
        {
          "output_type": "display_data",
          "data": {
            "image/png": "[encoded data removed]",
            "text/plain": [
              "<Figure size 504x360 with 1 Axes>"
            ]
          },
          "metadata": {
            "tags": [],
            "needs_background": "light"
          }
        },
        {
          "output_type": "display_data",
          "data": {
            "image/png": "[encoded data removed]",
            "text/plain": [
              "<Figure size 504x360 with 1 Axes>"
            ]
          },
          "metadata": {
            "tags": [],
            "needs_background": "light"
          }
        },
        {
          "output_type": "display_data",
          "data": {
            "image/png": "[encoded data removed]",
            "text/plain": [
              "<Figure size 504x360 with 1 Axes>"
            ]
          },
          "metadata": {
            "tags": [],
            "needs_background": "light"
          }
        },
        {
          "output_type": "display_data",
          "data": {
            "image/png": "[encoded data removed]",
            "text/plain": [
              "<Figure size 504x360 with 1 Axes>"
            ]
          },
          "metadata": {
            "tags": [],
            "needs_background": "light"
          }
        },
        {
          "output_type": "display_data",
          "data": {
            "image/png": "[encoded data removed]",
            "text/plain": [
              "<Figure size 504x360 with 1 Axes>"
            ]
          },
          "metadata": {
            "tags": [],
            "needs_background": "light"
          }
        }
      ]
    },
    {
      "cell_type": "markdown",
      "metadata": {
        "id": "cYga0PLQL24k"
      },
      "source": [
        "Как мы видим, по всем этим платформам распределение нормальное. И средняя продолжительность жизни платформ составляет 10-11 лет."
      ]
    },
    {
      "cell_type": "markdown",
      "metadata": {
        "id": "67-ut8zPMJoT"
      },
      "source": [
        "Как мы говорили ранее, дальнейший анализ будем проводить на актуальных данных. Для этого выберем только те игры, которые были выпущены после 2011 года (10 лет/2 - получается, что пик игры приходится на 5ый год(подтверждается графиком выше)), чтобы отследить пиковые значения за последние 5 лет."
      ]
    },
    {
      "cell_type": "code",
      "metadata": {
        "id": "Qp1szkkZZP1r"
      },
      "source": [
        "actual_data = data.query('year_of_release > 2011')"
      ],
      "execution_count": null,
      "outputs": []
    },
    {
      "cell_type": "markdown",
      "metadata": {
        "id": "V1UFCA1x6gov"
      },
      "source": [
        "Построим графическое положение продаж тгр в разрезе платформ"
      ]
    },
    {
      "cell_type": "code",
      "metadata": {
        "colab": {
          "base_uri": "https://localhost:8080/",
          "height": 513
        },
        "id": "-98gP-TuZP1r",
        "outputId": "818fc1a2-eaba-469e-b7af-9f723c4d5fd5"
      },
      "source": [
        "for_plot_1 = actual_data.pivot_table(index='year_of_release', \n",
        "                        columns='platform', \n",
        "                        values='total_sales', \n",
        "                        aggfunc='sum')\n",
        "for_plot_1.plot(kind='line', marker='o', figsize=(12,8), colormap='gist_ncar')\n",
        "ax = plt.axes()\n",
        "ax.set_facecolor(\"black\")\n",
        "plt.title('Продажи по платформам')\n",
        "plt.xlabel('Год')\n",
        "plt.ylabel('Количество')\n",
        "plt.grid()\n",
        "#plt.get_cmap('binary')\n",
        "plt.show()"
      ],
      "execution_count": null,
      "outputs": [
        {
          "output_type": "display_data",
          "data": {
            "image/png": "[encoded data removed]",
            "text/plain": [
              "<Figure size 864x576 with 1 Axes>"
            ]
          },
          "metadata": {
            "tags": [],
            "needs_background": "light"
          }
        }
      ]
    },
    {
      "cell_type": "markdown",
      "metadata": {
        "id": "2kPaa2c6izGc"
      },
      "source": [
        "На основе построенного графика можно сделать следующие выводы:\n",
        "1. Прошли свои пики и жизненный цикл идет/пришел к конце у следующих платформ:  \n",
        " - ps3;  \n",
        " - x360;\n",
        " - 3ds;  \n",
        " - pc;  \n",
        " - wii;  \n",
        " - wiiu;  \n",
        " - psv;  \n",
        " - ds;  \n",
        " - psp.  \n",
        "2. Недавно вышешедшие платформы, которые еще могут принести прибыль:  \n",
        " -  ps4;  \n",
        " - xone.  \n",
        "3. Самые большие продажи наблюдались у платформ 3ds, ps3, ps4, wii, x360. \n"
      ]
    },
    {
      "cell_type": "markdown",
      "metadata": {
        "id": "L1ut-borGOHu"
      },
      "source": [
        "Построим график «ящик с усами» по глобальным продажам игр в разбивке по платформам."
      ]
    },
    {
      "cell_type": "code",
      "metadata": {
        "id": "EQ_a5CbbP9Lw",
        "outputId": "a6b1d7dc-f399-4bfd-9ee8-97809d03c003"
      },
      "source": [
        "actual_data.boxplot(column = 'total_sales', by='platform', figsize=(12,8),widths = 0.5)\n",
        "plt.ylim([0,2.5])\n",
        "plt.ylabel('Количество, млн шт.')\n",
        "plt.xlabel('Платформа')\n",
        "\n",
        "plt.tick_params(axis = 'both',\n",
        "                which = 'major',\n",
        "                labelsize = 10,\n",
        "               )    \n",
        "plt.title('Ящик с усами количества продаж игр по платформам')\n",
        "plt.grid()\n",
        "plt.show()\n"
      ],
      "execution_count": null,
      "outputs": [
        {
          "output_type": "display_data",
          "data": {
            "image/png": "[encoded data removed]",
            "text/plain": [
              "<Figure size 864x576 with 1 Axes>"
            ]
          },
          "metadata": {
            "tags": [],
            "needs_background": "light"
          }
        }
      ]
    },
    {
      "cell_type": "markdown",
      "metadata": {
        "id": "BMItLpbxKk7k"
      },
      "source": [
        "Ящик с усами показывает среднее количество (в млн) проданных экземпляров каждой игры на указанную платформу.  \n",
        "Самые высокие медианные продажи наблюдаются у игр на платформах х360, ps3, ps4, wiiu и xone."
      ]
    },
    {
      "cell_type": "markdown",
      "metadata": {
        "id": "dYQ8uBzKkth4"
      },
      "source": [
        "Посмотрим, как влияют на продажи внутри одной популярной платформы отзывы пользователей и критиков. Построим диаграмму рассеяния и рассчитаем корреляцию между отзывами и продажами."
      ]
    },
    {
      "cell_type": "code",
      "metadata": {
        "colab": {
          "base_uri": "https://localhost:8080/",
          "height": 1000
        },
        "id": "BySjACRKZP1s",
        "scrolled": false,
        "outputId": "2238a811-058b-4a6c-ffba-622e881398f7"
      },
      "source": [
        "corr_data = actual_data[['platform','user_score', 'critic_score', 'total_sales']]\n",
        "popular_corr_data = corr_data.loc[(corr_data['critic_score'] < 500)&(corr_data['user_score'] < 500)]\n",
        "popular_corr_data_platforms = popular_corr_data['platform'].unique()\n",
        "def corr (platform):\n",
        "    x3 = corr_data.loc[(corr_data['platform'] == platform)]\n",
        "    corrMatrix = x3.corr()\n",
        "    #corrMatrix = corr_data.query('platform == x_platform').corr()\n",
        "    sn.heatmap(corrMatrix, annot=True, fmt='.1g')\n",
        "    plt.title('Матрица корреляции отзывов и продаж игр на ' + platform)\n",
        "    plt.show()\n",
        "for i in popular_corr_data_platforms:\n",
        "    corr(i)"
      ],
      "execution_count": null,
      "outputs": [
        {
          "output_type": "display_data",
          "data": {
            "image/png": "[encoded data removed]",
            "text/plain": [
              "<Figure size 432x288 with 2 Axes>"
            ]
          },
          "metadata": {
            "tags": [],
            "needs_background": "light"
          }
        },
        {
          "output_type": "display_data",
          "data": {
            "image/png": "[encoded data removed]",
            "text/plain": [
              "<Figure size 432x288 with 2 Axes>"
            ]
          },
          "metadata": {
            "tags": [],
            "needs_background": "light"
          }
        },
        {
          "output_type": "display_data",
          "data": {
            "image/png": "[encoded data removed]",
            "text/plain": [
              "<Figure size 432x288 with 2 Axes>"
            ]
          },
          "metadata": {
            "tags": [],
            "needs_background": "light"
          }
        },
        {
          "output_type": "display_data",
          "data": {
            "image/png": "[encoded data removed]",
            "text/plain": [
              "<Figure size 432x288 with 2 Axes>"
            ]
          },
          "metadata": {
            "tags": [],
            "needs_background": "light"
          }
        },
        {
          "output_type": "display_data",
          "data": {
            "image/png": "[encoded data removed]",
            "text/plain": [
              "<Figure size 432x288 with 2 Axes>"
            ]
          },
          "metadata": {
            "tags": [],
            "needs_background": "light"
          }
        },
        {
          "output_type": "display_data",
          "data": {
            "image/png": "[encoded data removed]",
            "text/plain": [
              "<Figure size 432x288 with 2 Axes>"
            ]
          },
          "metadata": {
            "tags": [],
            "needs_background": "light"
          }
        },
        {
          "output_type": "display_data",
          "data": {
            "image/png": "[encoded data removed]",
            "text/plain": [
              "<Figure size 432x288 with 2 Axes>"
            ]
          },
          "metadata": {
            "tags": [],
            "needs_background": "light"
          }
        },
        {
          "output_type": "display_data",
          "data": {
            "image/png": "[encoded data removed]",
            "text/plain": [
              "<Figure size 432x288 with 2 Axes>"
            ]
          },
          "metadata": {
            "tags": [],
            "needs_background": "light"
          }
        },
        {
          "output_type": "display_data",
          "data": {
            "image/png": "[encoded data removed]",
            "text/plain": [
              "<Figure size 432x288 with 2 Axes>"
            ]
          },
          "metadata": {
            "tags": [],
            "needs_background": "light"
          }
        },
        {
          "output_type": "display_data",
          "data": {
            "image/png": "[encoded data removed]",
            "text/plain": [
              "<Figure size 432x288 with 2 Axes>"
            ]
          },
          "metadata": {
            "tags": [],
            "needs_background": "light"
          }
        },
        {
          "output_type": "display_data",
          "data": {
            "image/png": "[encoded data removed]",
            "text/plain": [
              "<Figure size 432x288 with 2 Axes>"
            ]
          },
          "metadata": {
            "tags": [],
            "needs_background": "light"
          }
        }
      ]
    },
    {
      "cell_type": "code",
      "metadata": {
        "id": "BCTGoMklP9Lx",
        "outputId": "c7483fb2-81fa-4799-e5fb-29f31a8e4aaf"
      },
      "source": [
        "pd.plotting.scatter_matrix(popular_corr_data, figsize=(9, 9)) \n",
        "plt.show()"
      ],
      "execution_count": null,
      "outputs": [
        {
          "output_type": "display_data",
          "data": {
            "image/png": "[encoded data removed]",
            "text/plain": [
              "<Figure size 648x648 with 9 Axes>"
            ]
          },
          "metadata": {
            "tags": [],
            "needs_background": "light"
          }
        }
      ]
    },
    {
      "cell_type": "markdown",
      "metadata": {
        "id": "TvpgpojUyJUW"
      },
      "source": [
        "Для расчета корреляционной матрицы мы исключили строки с играми, в которых отсутствуют оценки критиков и игроков.  \n",
        "Из полученных результатов видно, что корреляция между отзывами и продажами игр почти отсутствует.  \n",
        "Наибольшая корреляция (0,4) наблюдается по продажам игр на платформы x360, xone и ps4.  \n",
        "Также для подтверждения полученных значений мы построили диаграммы рассеяния.\n",
        "При этом корреляция между отзывами критиков и игроков положительная и достаточна большая."
      ]
    },
    {
      "cell_type": "markdown",
      "metadata": {
        "id": "hnXTefKOzOQo"
      },
      "source": [
        "Теперь посмотрим распределение количества и продаж игр по жанрам:"
      ]
    },
    {
      "cell_type": "code",
      "metadata": {
        "colab": {
          "base_uri": "https://localhost:8080/",
          "height": 842
        },
        "id": "2KjRFxGaZP1t",
        "outputId": "4e48eba2-7ef3-42db-b9e5-1e24455b8db8"
      },
      "source": [
        "for_plot_genres = actual_data.groupby('genre').agg({'total_sales': 'sum',\n",
        "                                 'name': 'count'}).reset_index()\n",
        "for_plot_genres.columns= ['жанр','Итого_продажи_млн_шт','количество']\n",
        "display(for_plot_genres)\n",
        "\n",
        "fig, ax = plt.subplots(figsize=(12, 6))\n",
        "x=actual_data['genre'].unique()\n",
        "ax1 = actual_data.groupby('genre')['name'].count()\n",
        "ax2= actual_data.groupby('genre')['total_sales'].median()*1000\n",
        "ax1.plot(x=x, color='r', label='Количество выпущенных игр, шт')\n",
        "ax2.plot(x=x, kind='bar', rot=45, color='olivedrab', label='Количество проданных игр, тыс. шт')\n",
        "plt.legend()\n",
        "plt.grid()\n",
        "ax.set_facecolor('gainsboro')\n",
        "plt.title('Общее распределение игр по жанрам')\n",
        "ax.set_ylabel('Количество') \n",
        "ax.set_xlabel('Жанр игры')\n",
        "plt.show()"
      ],
      "execution_count": null,
      "outputs": [
        {
          "output_type": "display_data",
          "data": {
            "text/html": [
              "<div>\n",
              "<style scoped>\n",
              "    .dataframe tbody tr th:only-of-type {\n",
              "        vertical-align: middle;\n",
              "    }\n",
              "\n",
              "    .dataframe tbody tr th {\n",
              "        vertical-align: top;\n",
              "    }\n",
              "\n",
              "    .dataframe thead th {\n",
              "        text-align: right;\n",
              "    }\n",
              "</style>\n",
              "<table border=\"1\" class=\"dataframe\">\n",
              "  <thead>\n",
              "    <tr style=\"text-align: right;\">\n",
              "      <th></th>\n",
              "      <th>жанр</th>\n",
              "      <th>Итого_продажи_млн_шт</th>\n",
              "      <th>количество</th>\n",
              "    </tr>\n",
              "  </thead>\n",
              "  <tbody>\n",
              "    <tr>\n",
              "      <td>0</td>\n",
              "      <td>action</td>\n",
              "      <td>441.12</td>\n",
              "      <td>1031</td>\n",
              "    </tr>\n",
              "    <tr>\n",
              "      <td>1</td>\n",
              "      <td>adventure</td>\n",
              "      <td>29.43</td>\n",
              "      <td>302</td>\n",
              "    </tr>\n",
              "    <tr>\n",
              "      <td>2</td>\n",
              "      <td>fighting</td>\n",
              "      <td>44.49</td>\n",
              "      <td>109</td>\n",
              "    </tr>\n",
              "    <tr>\n",
              "      <td>3</td>\n",
              "      <td>misc</td>\n",
              "      <td>85.04</td>\n",
              "      <td>192</td>\n",
              "    </tr>\n",
              "    <tr>\n",
              "      <td>4</td>\n",
              "      <td>platform</td>\n",
              "      <td>61.00</td>\n",
              "      <td>85</td>\n",
              "    </tr>\n",
              "    <tr>\n",
              "      <td>5</td>\n",
              "      <td>puzzle</td>\n",
              "      <td>4.89</td>\n",
              "      <td>28</td>\n",
              "    </tr>\n",
              "    <tr>\n",
              "      <td>6</td>\n",
              "      <td>racing</td>\n",
              "      <td>53.50</td>\n",
              "      <td>115</td>\n",
              "    </tr>\n",
              "    <tr>\n",
              "      <td>7</td>\n",
              "      <td>role-playing</td>\n",
              "      <td>192.80</td>\n",
              "      <td>370</td>\n",
              "    </tr>\n",
              "    <tr>\n",
              "      <td>8</td>\n",
              "      <td>shooter</td>\n",
              "      <td>304.73</td>\n",
              "      <td>235</td>\n",
              "    </tr>\n",
              "    <tr>\n",
              "      <td>9</td>\n",
              "      <td>simulation</td>\n",
              "      <td>35.12</td>\n",
              "      <td>80</td>\n",
              "    </tr>\n",
              "    <tr>\n",
              "      <td>10</td>\n",
              "      <td>sports</td>\n",
              "      <td>181.07</td>\n",
              "      <td>268</td>\n",
              "    </tr>\n",
              "    <tr>\n",
              "      <td>11</td>\n",
              "      <td>strategy</td>\n",
              "      <td>13.34</td>\n",
              "      <td>71</td>\n",
              "    </tr>\n",
              "  </tbody>\n",
              "</table>\n",
              "</div>"
            ],
            "text/plain": [
              "            жанр  Итого_продажи_млн_шт  количество\n",
              "0         action                441.12        1031\n",
              "1      adventure                 29.43         302\n",
              "2       fighting                 44.49         109\n",
              "3           misc                 85.04         192\n",
              "4       platform                 61.00          85\n",
              "5         puzzle                  4.89          28\n",
              "6         racing                 53.50         115\n",
              "7   role-playing                192.80         370\n",
              "8        shooter                304.73         235\n",
              "9     simulation                 35.12          80\n",
              "10        sports                181.07         268\n",
              "11      strategy                 13.34          71"
            ]
          },
          "metadata": {
            "tags": []
          }
        },
        {
          "output_type": "display_data",
          "data": {
            "image/png": "[encoded data removed]",
            "text/plain": [
              "<Figure size 864x432 with 1 Axes>"
            ]
          },
          "metadata": {
            "tags": [],
            "needs_background": "light"
          }
        }
      ]
    },
    {
      "cell_type": "markdown",
      "metadata": {
        "id": "NEo0_Jqf-T6Z"
      },
      "source": [
        "Как видно на графике - самый популярный тип игр - action. Количество игр превышает 1000, а количество проданных покий составляет более четырехсот миллионов штук(как видно из таблицы). На втором месте по продажам идет жанр shooter. Наименее популярные игры (как по продажам, так и по производству) - puzzle.  \n",
        "При этом первое место по количеству медианных продаж занимает жанр shooter, на втором месте - sports, на третьем - platform."
      ]
    },
    {
      "cell_type": "markdown",
      "metadata": {
        "id": "RPZe8JkdosHN"
      },
      "source": [
        "## Предпочтения пользователей по регионам"
      ]
    },
    {
      "cell_type": "code",
      "metadata": {
        "id": "QM7j4rRJZP1t"
      },
      "source": [
        "def region(reg, name):\n",
        "  print('Топ-5 популярных платформ в ', name)\n",
        "  top_platforms = actual_data.pivot_table(index='platform', values=reg, aggfunc='sum').reset_index()\n",
        "  top_platforms['share']=top_platforms[reg]/(top_platforms[reg].sum())\n",
        "  display(top_platforms[['platform','share']].sort_values(by='share',ascending=False).head().reset_index(drop=True))\n",
        "  print()\n",
        "  print('Топ-5 популярных жанров игр в ', name)\n",
        "  top_genre = actual_data.pivot_table(index='genre', values=reg, aggfunc='sum').reset_index()\n",
        "  top_genre['share']=top_genre[reg]/(top_genre[reg].sum())\n",
        "  display(top_genre[['genre','share']].sort_values(by='share',ascending=False).head().reset_index(drop=True))\n",
        "  print()\n",
        "  print('Доля продаж игр в ', name,', в зависимости от классификации ESRB')\n",
        "  esrb = actual_data.pivot_table(index='rating', values=reg, aggfunc='sum').reset_index()\n",
        "  esrb['share']=esrb[reg]/(esrb[reg].sum())\n",
        "  display(esrb[['rating','share']].sort_values(by='share',ascending=False).reset_index(drop=True))\n",
        "  print('-------------------------------------------------------------------------------------------------')"
      ],
      "execution_count": null,
      "outputs": []
    },
    {
      "cell_type": "code",
      "metadata": {
        "colab": {
          "base_uri": "https://localhost:8080/",
          "height": 1000
        },
        "id": "6-jbUCu5ZP1t",
        "outputId": "dd804843-8256-4393-a534-d5da6a6a7c27"
      },
      "source": [
        "list_regions=[['na_sales','Северной Америке'],\n",
        "              ['eu_sales','Европе'],\n",
        "              ['jp_sales','Японии']]\n",
        "for i in list_regions:\n",
        "  region(i[0],i[1])"
      ],
      "execution_count": null,
      "outputs": [
        {
          "output_type": "stream",
          "text": [
            "Топ-5 популярных платформ в  Северной Америке\n"
          ],
          "name": "stdout"
        },
        {
          "output_type": "display_data",
          "data": {
            "text/html": [
              "<div>\n",
              "<style scoped>\n",
              "    .dataframe tbody tr th:only-of-type {\n",
              "        vertical-align: middle;\n",
              "    }\n",
              "\n",
              "    .dataframe tbody tr th {\n",
              "        vertical-align: top;\n",
              "    }\n",
              "\n",
              "    .dataframe thead th {\n",
              "        text-align: right;\n",
              "    }\n",
              "</style>\n",
              "<table border=\"1\" class=\"dataframe\">\n",
              "  <thead>\n",
              "    <tr style=\"text-align: right;\">\n",
              "      <th></th>\n",
              "      <th>platform</th>\n",
              "      <th>share</th>\n",
              "    </tr>\n",
              "  </thead>\n",
              "  <tbody>\n",
              "    <tr>\n",
              "      <td>0</td>\n",
              "      <td>x360</td>\n",
              "      <td>0.236983</td>\n",
              "    </tr>\n",
              "    <tr>\n",
              "      <td>1</td>\n",
              "      <td>ps4</td>\n",
              "      <td>0.184003</td>\n",
              "    </tr>\n",
              "    <tr>\n",
              "      <td>2</td>\n",
              "      <td>ps3</td>\n",
              "      <td>0.174933</td>\n",
              "    </tr>\n",
              "    <tr>\n",
              "      <td>3</td>\n",
              "      <td>xone</td>\n",
              "      <td>0.157571</td>\n",
              "    </tr>\n",
              "    <tr>\n",
              "      <td>4</td>\n",
              "      <td>3ds</td>\n",
              "      <td>0.093592</td>\n",
              "    </tr>\n",
              "  </tbody>\n",
              "</table>\n",
              "</div>"
            ],
            "text/plain": [
              "  platform     share\n",
              "0     x360  0.236983\n",
              "1      ps4  0.184003\n",
              "2      ps3  0.174933\n",
              "3     xone  0.157571\n",
              "4      3ds  0.093592"
            ]
          },
          "metadata": {
            "tags": []
          }
        },
        {
          "output_type": "stream",
          "text": [
            "\n",
            "Топ-5 популярных жанров игр в  Северной Америке\n"
          ],
          "name": "stdout"
        },
        {
          "output_type": "display_data",
          "data": {
            "text/html": [
              "<div>\n",
              "<style scoped>\n",
              "    .dataframe tbody tr th:only-of-type {\n",
              "        vertical-align: middle;\n",
              "    }\n",
              "\n",
              "    .dataframe tbody tr th {\n",
              "        vertical-align: top;\n",
              "    }\n",
              "\n",
              "    .dataframe thead th {\n",
              "        text-align: right;\n",
              "    }\n",
              "</style>\n",
              "<table border=\"1\" class=\"dataframe\">\n",
              "  <thead>\n",
              "    <tr style=\"text-align: right;\">\n",
              "      <th></th>\n",
              "      <th>genre</th>\n",
              "      <th>share</th>\n",
              "    </tr>\n",
              "  </thead>\n",
              "  <tbody>\n",
              "    <tr>\n",
              "      <td>0</td>\n",
              "      <td>action</td>\n",
              "      <td>0.300929</td>\n",
              "    </tr>\n",
              "    <tr>\n",
              "      <td>1</td>\n",
              "      <td>shooter</td>\n",
              "      <td>0.244970</td>\n",
              "    </tr>\n",
              "    <tr>\n",
              "      <td>2</td>\n",
              "      <td>sports</td>\n",
              "      <td>0.137960</td>\n",
              "    </tr>\n",
              "    <tr>\n",
              "      <td>3</td>\n",
              "      <td>role-playing</td>\n",
              "      <td>0.108297</td>\n",
              "    </tr>\n",
              "    <tr>\n",
              "      <td>4</td>\n",
              "      <td>misc</td>\n",
              "      <td>0.064623</td>\n",
              "    </tr>\n",
              "  </tbody>\n",
              "</table>\n",
              "</div>"
            ],
            "text/plain": [
              "          genre     share\n",
              "0        action  0.300929\n",
              "1       shooter  0.244970\n",
              "2        sports  0.137960\n",
              "3  role-playing  0.108297\n",
              "4          misc  0.064623"
            ]
          },
          "metadata": {
            "tags": []
          }
        },
        {
          "output_type": "stream",
          "text": [
            "\n",
            "Доля продаж игр в  Северной Америке , в зависимости от классификации ESRB\n"
          ],
          "name": "stdout"
        },
        {
          "output_type": "display_data",
          "data": {
            "text/html": [
              "<div>\n",
              "<style scoped>\n",
              "    .dataframe tbody tr th:only-of-type {\n",
              "        vertical-align: middle;\n",
              "    }\n",
              "\n",
              "    .dataframe tbody tr th {\n",
              "        vertical-align: top;\n",
              "    }\n",
              "\n",
              "    .dataframe thead th {\n",
              "        text-align: right;\n",
              "    }\n",
              "</style>\n",
              "<table border=\"1\" class=\"dataframe\">\n",
              "  <thead>\n",
              "    <tr style=\"text-align: right;\">\n",
              "      <th></th>\n",
              "      <th>rating</th>\n",
              "      <th>share</th>\n",
              "    </tr>\n",
              "  </thead>\n",
              "  <tbody>\n",
              "    <tr>\n",
              "      <td>0</td>\n",
              "      <td>M</td>\n",
              "      <td>0.391847</td>\n",
              "    </tr>\n",
              "    <tr>\n",
              "      <td>1</td>\n",
              "      <td>E</td>\n",
              "      <td>0.193529</td>\n",
              "    </tr>\n",
              "    <tr>\n",
              "      <td>2</td>\n",
              "      <td>999</td>\n",
              "      <td>0.174814</td>\n",
              "    </tr>\n",
              "    <tr>\n",
              "      <td>3</td>\n",
              "      <td>E10+</td>\n",
              "      <td>0.128094</td>\n",
              "    </tr>\n",
              "    <tr>\n",
              "      <td>4</td>\n",
              "      <td>T</td>\n",
              "      <td>0.111715</td>\n",
              "    </tr>\n",
              "  </tbody>\n",
              "</table>\n",
              "</div>"
            ],
            "text/plain": [
              "  rating     share\n",
              "0      M  0.391847\n",
              "1      E  0.193529\n",
              "2    999  0.174814\n",
              "3   E10+  0.128094\n",
              "4      T  0.111715"
            ]
          },
          "metadata": {
            "tags": []
          }
        },
        {
          "output_type": "stream",
          "text": [
            "-------------------------------------------------------------------------------------------------\n",
            "Топ-5 популярных платформ в  Европе\n"
          ],
          "name": "stdout"
        },
        {
          "output_type": "display_data",
          "data": {
            "text/html": [
              "<div>\n",
              "<style scoped>\n",
              "    .dataframe tbody tr th:only-of-type {\n",
              "        vertical-align: middle;\n",
              "    }\n",
              "\n",
              "    .dataframe tbody tr th {\n",
              "        vertical-align: top;\n",
              "    }\n",
              "\n",
              "    .dataframe thead th {\n",
              "        text-align: right;\n",
              "    }\n",
              "</style>\n",
              "<table border=\"1\" class=\"dataframe\">\n",
              "  <thead>\n",
              "    <tr style=\"text-align: right;\">\n",
              "      <th></th>\n",
              "      <th>platform</th>\n",
              "      <th>share</th>\n",
              "    </tr>\n",
              "  </thead>\n",
              "  <tbody>\n",
              "    <tr>\n",
              "      <td>0</td>\n",
              "      <td>ps4</td>\n",
              "      <td>0.278383</td>\n",
              "    </tr>\n",
              "    <tr>\n",
              "      <td>1</td>\n",
              "      <td>ps3</td>\n",
              "      <td>0.210844</td>\n",
              "    </tr>\n",
              "    <tr>\n",
              "      <td>2</td>\n",
              "      <td>x360</td>\n",
              "      <td>0.147034</td>\n",
              "    </tr>\n",
              "    <tr>\n",
              "      <td>3</td>\n",
              "      <td>xone</td>\n",
              "      <td>0.101792</td>\n",
              "    </tr>\n",
              "    <tr>\n",
              "      <td>4</td>\n",
              "      <td>3ds</td>\n",
              "      <td>0.084132</td>\n",
              "    </tr>\n",
              "  </tbody>\n",
              "</table>\n",
              "</div>"
            ],
            "text/plain": [
              "  platform     share\n",
              "0      ps4  0.278383\n",
              "1      ps3  0.210844\n",
              "2     x360  0.147034\n",
              "3     xone  0.101792\n",
              "4      3ds  0.084132"
            ]
          },
          "metadata": {
            "tags": []
          }
        },
        {
          "output_type": "stream",
          "text": [
            "\n",
            "Топ-5 популярных жанров игр в  Европе\n"
          ],
          "name": "stdout"
        },
        {
          "output_type": "display_data",
          "data": {
            "text/html": [
              "<div>\n",
              "<style scoped>\n",
              "    .dataframe tbody tr th:only-of-type {\n",
              "        vertical-align: middle;\n",
              "    }\n",
              "\n",
              "    .dataframe tbody tr th {\n",
              "        vertical-align: top;\n",
              "    }\n",
              "\n",
              "    .dataframe thead th {\n",
              "        text-align: right;\n",
              "    }\n",
              "</style>\n",
              "<table border=\"1\" class=\"dataframe\">\n",
              "  <thead>\n",
              "    <tr style=\"text-align: right;\">\n",
              "      <th></th>\n",
              "      <th>genre</th>\n",
              "      <th>share</th>\n",
              "    </tr>\n",
              "  </thead>\n",
              "  <tbody>\n",
              "    <tr>\n",
              "      <td>0</td>\n",
              "      <td>action</td>\n",
              "      <td>0.314392</td>\n",
              "    </tr>\n",
              "    <tr>\n",
              "      <td>1</td>\n",
              "      <td>shooter</td>\n",
              "      <td>0.223886</td>\n",
              "    </tr>\n",
              "    <tr>\n",
              "      <td>2</td>\n",
              "      <td>sports</td>\n",
              "      <td>0.136321</td>\n",
              "    </tr>\n",
              "    <tr>\n",
              "      <td>3</td>\n",
              "      <td>role-playing</td>\n",
              "      <td>0.095754</td>\n",
              "    </tr>\n",
              "    <tr>\n",
              "      <td>4</td>\n",
              "      <td>racing</td>\n",
              "      <td>0.053846</td>\n",
              "    </tr>\n",
              "  </tbody>\n",
              "</table>\n",
              "</div>"
            ],
            "text/plain": [
              "          genre     share\n",
              "0        action  0.314392\n",
              "1       shooter  0.223886\n",
              "2        sports  0.136321\n",
              "3  role-playing  0.095754\n",
              "4        racing  0.053846"
            ]
          },
          "metadata": {
            "tags": []
          }
        },
        {
          "output_type": "stream",
          "text": [
            "\n",
            "Доля продаж игр в  Европе , в зависимости от классификации ESRB\n"
          ],
          "name": "stdout"
        },
        {
          "output_type": "display_data",
          "data": {
            "text/html": [
              "<div>\n",
              "<style scoped>\n",
              "    .dataframe tbody tr th:only-of-type {\n",
              "        vertical-align: middle;\n",
              "    }\n",
              "\n",
              "    .dataframe tbody tr th {\n",
              "        vertical-align: top;\n",
              "    }\n",
              "\n",
              "    .dataframe thead th {\n",
              "        text-align: right;\n",
              "    }\n",
              "</style>\n",
              "<table border=\"1\" class=\"dataframe\">\n",
              "  <thead>\n",
              "    <tr style=\"text-align: right;\">\n",
              "      <th></th>\n",
              "      <th>rating</th>\n",
              "      <th>share</th>\n",
              "    </tr>\n",
              "  </thead>\n",
              "  <tbody>\n",
              "    <tr>\n",
              "      <td>0</td>\n",
              "      <td>M</td>\n",
              "      <td>0.382700</td>\n",
              "    </tr>\n",
              "    <tr>\n",
              "      <td>1</td>\n",
              "      <td>E</td>\n",
              "      <td>0.223018</td>\n",
              "    </tr>\n",
              "    <tr>\n",
              "      <td>2</td>\n",
              "      <td>999</td>\n",
              "      <td>0.180537</td>\n",
              "    </tr>\n",
              "    <tr>\n",
              "      <td>3</td>\n",
              "      <td>E10+</td>\n",
              "      <td>0.109250</td>\n",
              "    </tr>\n",
              "    <tr>\n",
              "      <td>4</td>\n",
              "      <td>T</td>\n",
              "      <td>0.104495</td>\n",
              "    </tr>\n",
              "  </tbody>\n",
              "</table>\n",
              "</div>"
            ],
            "text/plain": [
              "  rating     share\n",
              "0      M  0.382700\n",
              "1      E  0.223018\n",
              "2    999  0.180537\n",
              "3   E10+  0.109250\n",
              "4      T  0.104495"
            ]
          },
          "metadata": {
            "tags": []
          }
        },
        {
          "output_type": "stream",
          "text": [
            "-------------------------------------------------------------------------------------------------\n",
            "Топ-5 популярных платформ в  Японии\n"
          ],
          "name": "stdout"
        },
        {
          "output_type": "display_data",
          "data": {
            "text/html": [
              "<div>\n",
              "<style scoped>\n",
              "    .dataframe tbody tr th:only-of-type {\n",
              "        vertical-align: middle;\n",
              "    }\n",
              "\n",
              "    .dataframe tbody tr th {\n",
              "        vertical-align: top;\n",
              "    }\n",
              "\n",
              "    .dataframe thead th {\n",
              "        text-align: right;\n",
              "    }\n",
              "</style>\n",
              "<table border=\"1\" class=\"dataframe\">\n",
              "  <thead>\n",
              "    <tr style=\"text-align: right;\">\n",
              "      <th></th>\n",
              "      <th>platform</th>\n",
              "      <th>share</th>\n",
              "    </tr>\n",
              "  </thead>\n",
              "  <tbody>\n",
              "    <tr>\n",
              "      <td>0</td>\n",
              "      <td>3ds</td>\n",
              "      <td>0.455862</td>\n",
              "    </tr>\n",
              "    <tr>\n",
              "      <td>1</td>\n",
              "      <td>ps3</td>\n",
              "      <td>0.183249</td>\n",
              "    </tr>\n",
              "    <tr>\n",
              "      <td>2</td>\n",
              "      <td>psv</td>\n",
              "      <td>0.109253</td>\n",
              "    </tr>\n",
              "    <tr>\n",
              "      <td>3</td>\n",
              "      <td>ps4</td>\n",
              "      <td>0.082875</td>\n",
              "    </tr>\n",
              "    <tr>\n",
              "      <td>4</td>\n",
              "      <td>wiiu</td>\n",
              "      <td>0.067556</td>\n",
              "    </tr>\n",
              "  </tbody>\n",
              "</table>\n",
              "</div>"
            ],
            "text/plain": [
              "  platform     share\n",
              "0      3ds  0.455862\n",
              "1      ps3  0.183249\n",
              "2      psv  0.109253\n",
              "3      ps4  0.082875\n",
              "4     wiiu  0.067556"
            ]
          },
          "metadata": {
            "tags": []
          }
        },
        {
          "output_type": "stream",
          "text": [
            "\n",
            "Топ-5 популярных жанров игр в  Японии\n"
          ],
          "name": "stdout"
        },
        {
          "output_type": "display_data",
          "data": {
            "text/html": [
              "<div>\n",
              "<style scoped>\n",
              "    .dataframe tbody tr th:only-of-type {\n",
              "        vertical-align: middle;\n",
              "    }\n",
              "\n",
              "    .dataframe tbody tr th {\n",
              "        vertical-align: top;\n",
              "    }\n",
              "\n",
              "    .dataframe thead th {\n",
              "        text-align: right;\n",
              "    }\n",
              "</style>\n",
              "<table border=\"1\" class=\"dataframe\">\n",
              "  <thead>\n",
              "    <tr style=\"text-align: right;\">\n",
              "      <th></th>\n",
              "      <th>genre</th>\n",
              "      <th>share</th>\n",
              "    </tr>\n",
              "  </thead>\n",
              "  <tbody>\n",
              "    <tr>\n",
              "      <td>0</td>\n",
              "      <td>role-playing</td>\n",
              "      <td>0.339807</td>\n",
              "    </tr>\n",
              "    <tr>\n",
              "      <td>1</td>\n",
              "      <td>action</td>\n",
              "      <td>0.274172</td>\n",
              "    </tr>\n",
              "    <tr>\n",
              "      <td>2</td>\n",
              "      <td>misc</td>\n",
              "      <td>0.066777</td>\n",
              "    </tr>\n",
              "    <tr>\n",
              "      <td>3</td>\n",
              "      <td>simulation</td>\n",
              "      <td>0.054055</td>\n",
              "    </tr>\n",
              "    <tr>\n",
              "      <td>4</td>\n",
              "      <td>fighting</td>\n",
              "      <td>0.049019</td>\n",
              "    </tr>\n",
              "  </tbody>\n",
              "</table>\n",
              "</div>"
            ],
            "text/plain": [
              "          genre     share\n",
              "0  role-playing  0.339807\n",
              "1        action  0.274172\n",
              "2          misc  0.066777\n",
              "3    simulation  0.054055\n",
              "4      fighting  0.049019"
            ]
          },
          "metadata": {
            "tags": []
          }
        },
        {
          "output_type": "stream",
          "text": [
            "\n",
            "Доля продаж игр в  Японии , в зависимости от классификации ESRB\n"
          ],
          "name": "stdout"
        },
        {
          "output_type": "display_data",
          "data": {
            "text/html": [
              "<div>\n",
              "<style scoped>\n",
              "    .dataframe tbody tr th:only-of-type {\n",
              "        vertical-align: middle;\n",
              "    }\n",
              "\n",
              "    .dataframe tbody tr th {\n",
              "        vertical-align: top;\n",
              "    }\n",
              "\n",
              "    .dataframe thead th {\n",
              "        text-align: right;\n",
              "    }\n",
              "</style>\n",
              "<table border=\"1\" class=\"dataframe\">\n",
              "  <thead>\n",
              "    <tr style=\"text-align: right;\">\n",
              "      <th></th>\n",
              "      <th>rating</th>\n",
              "      <th>share</th>\n",
              "    </tr>\n",
              "  </thead>\n",
              "  <tbody>\n",
              "    <tr>\n",
              "      <td>0</td>\n",
              "      <td>999</td>\n",
              "      <td>0.565168</td>\n",
              "    </tr>\n",
              "    <tr>\n",
              "      <td>1</td>\n",
              "      <td>E</td>\n",
              "      <td>0.147108</td>\n",
              "    </tr>\n",
              "    <tr>\n",
              "      <td>2</td>\n",
              "      <td>T</td>\n",
              "      <td>0.135113</td>\n",
              "    </tr>\n",
              "    <tr>\n",
              "      <td>3</td>\n",
              "      <td>M</td>\n",
              "      <td>0.110084</td>\n",
              "    </tr>\n",
              "    <tr>\n",
              "      <td>4</td>\n",
              "      <td>E10+</td>\n",
              "      <td>0.042528</td>\n",
              "    </tr>\n",
              "  </tbody>\n",
              "</table>\n",
              "</div>"
            ],
            "text/plain": [
              "  rating     share\n",
              "0    999  0.565168\n",
              "1      E  0.147108\n",
              "2      T  0.135113\n",
              "3      M  0.110084\n",
              "4   E10+  0.042528"
            ]
          },
          "metadata": {
            "tags": []
          }
        },
        {
          "output_type": "stream",
          "text": [
            "-------------------------------------------------------------------------------------------------\n"
          ],
          "name": "stdout"
        }
      ]
    },
    {
      "cell_type": "markdown",
      "metadata": {
        "id": "UlRSleni0Qc0"
      },
      "source": [
        "Популярность приставки Xbox в Америке можно объяснить тем, что она выпускается в США. В то время, как PS была разработана в Японии.  \n",
        "Предпочтения по жанрам совпадают у пользователей в Северной Америке и Европе: action, shooter, sports,\trole-playing.  \n",
        "В Японии пользователи отдают предпочтения следующим жанрам: role-playing, action, misc, simulation, fighting. Могу предположить, что это связано с различиями в культуре, например, в Японии всегда особое место занимали боевые искусства, в связи с чем в рейтинге есть fighting и отсутствует shooter.  \n",
        "Рейтинг ESRB также совпадает в Северной Америке и Европе. В Японии боьшинству игр не присвоен рейтинг ESRB (56,5%).  \n",
        "Можно сделать вывод, что пользователи Северной Америки и Европы несильно отличаются друг от друга."
      ]
    },
    {
      "cell_type": "markdown",
      "metadata": {
        "id": "YzixsLgGwyxx"
      },
      "source": [
        "## Проверка гипотез"
      ]
    },
    {
      "cell_type": "markdown",
      "metadata": {
        "id": "fJ1ItrJDw1s2"
      },
      "source": [
        "### Средние пользовательские рейтинги платформ Xbox One и PC одинаковые."
      ]
    },
    {
      "cell_type": "markdown",
      "metadata": {
        "id": "0baWkja5w80G"
      },
      "source": [
        "Для подтверждения / опровержения данной гипотезы найдем средний пользовательский рейтинг игр на платформе Xbox. И сформируем гипотезы:  \n",
        "Н0 - Средние рейтинги Xbox One и PC одинаковые.  \n",
        "Н1 - Средние рейтинги Xbox One и PC одинаковые различаются.  \n",
        "Пользовательский рейтинг оценивается от 0-10. За критический уровень статистической значимости примем 3%.  \n",
        "Используем метод st.ttest_ind для подтверждения / опровержения Гипотезы о равенстве средних двух генеральных совокупностей."
      ]
    },
    {
      "cell_type": "code",
      "metadata": {
        "colab": {
          "base_uri": "https://localhost:8080/"
        },
        "id": "AeXSQCw2ZP1u",
        "outputId": "a9cfdaea-2247-4d33-ea75-15608792da3b"
      },
      "source": [
        "xone = actual_data.query('platform == \"xone\" & user_score < 500')['user_score']\n",
        "pc = actual_data.query('platform == \"pc\" & user_score < 500')['user_score']\n",
        "alpha = 0.03\n",
        "\n",
        "results = st.ttest_ind(xone, pc)\n",
        "\n",
        "print('p-значение:', results.pvalue)\n",
        "\n",
        "if results.pvalue < alpha:\n",
        "    print('Отвергаем нулевую гипотезу')\n",
        "else:\n",
        "    print('Не получилось отвергнуть нулевую гипотезу')"
      ],
      "execution_count": null,
      "outputs": [
        {
          "output_type": "stream",
          "text": [
            "p-значение: 0.5535080500643661\n",
            "Не получилось отвергнуть нулевую гипотезу\n"
          ],
          "name": "stdout"
        }
      ]
    },
    {
      "cell_type": "markdown",
      "metadata": {
        "id": "Mz3FLQ8b3X91"
      },
      "source": [
        "Мы подтвердили нулевую гипотезу. Таким образом, средний рейтинг приставок Xbox One b PC совпадает."
      ]
    },
    {
      "cell_type": "markdown",
      "metadata": {
        "id": "eByYu1rt3mk2"
      },
      "source": [
        "### Средние пользовательские рейтинги жанров Action (англ. «действие», экшен-игры) и Sports (англ. «спортивные соревнования») разные."
      ]
    },
    {
      "cell_type": "markdown",
      "metadata": {
        "id": "_DHxXQju3mbZ"
      },
      "source": [
        "Для подтверждения / опровержения данной гипотезы найдем средние пользовательские рейтинги Action игр и Sports игр.  \n",
        "И сформируем гипотезы:  \n",
        "Н0 - Средние пользовательские рейтинги AAction и Sports игр одинаковаые.  \n",
        "Н1 - Средние пользовательские рейтинги AAction и Sports игр различаются.  \n",
        "За критический уровень статистической значимости примем 3%.\n",
        "Нас интересует различаются ли рейтинги игр как в большую, так и в меньшую сторону, тогда используем метод st.ttest_1samp для подтверждения / опровержения двусторонней гипотезы."
      ]
    },
    {
      "cell_type": "code",
      "metadata": {
        "colab": {
          "base_uri": "https://localhost:8080/"
        },
        "id": "-UzXZtArZP1u",
        "outputId": "b5418b06-8db6-4d0e-a770-27b22c881f90"
      },
      "source": [
        "action_mean = actual_data.query('genre == \"action\" & user_score < 500')['user_score'].mean()\n",
        "sports = actual_data.query('genre == \"sports\" & user_score < 500')['user_score']\n",
        "optimal_revenue = action_mean\n",
        "\n",
        "alpha = 0.03\n",
        "\n",
        "results = st.ttest_1samp(sports, optimal_revenue)\n",
        "print('p-значение: ', results.pvalue)\n",
        "if results.pvalue < alpha:\n",
        "    print(\"Отвергаем нулевую гипотезу\")\n",
        "else:\n",
        "    print(\"Не получилось отвергнуть нулевую гипотезу\")"
      ],
      "execution_count": null,
      "outputs": [
        {
          "output_type": "stream",
          "text": [
            "p-значение:  3.569226585064298e-22\n",
            "Отвергаем нулевую гипотезу\n"
          ],
          "name": "stdout"
        }
      ]
    },
    {
      "cell_type": "markdown",
      "metadata": {
        "id": "26eyy-_x5VTt"
      },
      "source": [
        "Мы опровергли нулевую гипотезу. Таким образом, средние пользовательские рейтинги жанров Action (англ. «действие», экшен-игры) и Sports (англ. «спортивные соревнования») разные."
      ]
    },
    {
      "cell_type": "markdown",
      "metadata": {
        "id": "D6TmOVog6lka"
      },
      "source": [
        "##Вывод"
      ]
    },
    {
      "cell_type": "markdown",
      "metadata": {
        "id": "k5eS7Z6O9b3T"
      },
      "source": [
        "При планировании рекламной компании на 2017 год я бы акцентировала внимание на играх для следующих платформ: PS4 и Xbox One. Причем для рынка Северной Америки упор необходимо сделать на Xbox One, а на рынке Европы и Японии - на PS4.  \n",
        "Относительно жанров: на рынке Северной Америки и Европы следует уделить особое внимание играм в жанрах action и shooter в категории \"Для взрослых\"(M) и \"Для всех\"(E).  \n",
        "На рынке Японии следует отдат предпочтение играм в стиле role-playing и action."
      ]
    }
  ]
}